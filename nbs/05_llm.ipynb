{
 "cells": [
  {
   "cell_type": "code",
   "execution_count": 1,
   "id": "7bc3087c",
   "metadata": {},
   "outputs": [],
   "source": [
    "from fastcore.all import *\n",
    "from google import genai"
   ]
  },
  {
   "cell_type": "markdown",
   "id": "f94dd5ef-6f21-455c-ac24-a800a5e6b876",
   "metadata": {},
   "source": [
    "# LLM"
   ]
  },
  {
   "cell_type": "code",
   "execution_count": 4,
   "id": "dec8b664-4c12-460a-b0f4-6c630f01c2d8",
   "metadata": {},
   "outputs": [],
   "source": [
    "model = 'gemini-2.0-flash'"
   ]
  },
  {
   "cell_type": "code",
   "execution_count": 3,
   "id": "92c71476-2dba-416b-a70c-8c840aa7aa61",
   "metadata": {},
   "outputs": [],
   "source": [
    "client = genai.Client()"
   ]
  },
  {
   "cell_type": "markdown",
   "id": "53aca1b9-6f32-48c9-834b-7071292f506c",
   "metadata": {},
   "source": [
    "## Simple call example"
   ]
  },
  {
   "cell_type": "code",
   "execution_count": 28,
   "id": "78972a48-0c61-47b1-ba40-60aa0d8e48e2",
   "metadata": {},
   "outputs": [
    {
     "name": "stdout",
     "output_type": "stream",
     "text": [
      "Rayleigh scattering: air molecules scatter blue light from the sun more than other colors.\n",
      "\n"
     ]
    }
   ],
   "source": [
    "r = client.models.generate_content(\n",
    "    model=model,\n",
    "    contents='Why is the sky blue?',\n",
    "    config=genai.types.GenerateContentConfig(systemInstruction='Provide small, precise answers.'),\n",
    ")\n",
    "print(r.text)"
   ]
  },
  {
   "cell_type": "markdown",
   "id": "3c2c8407-1269-49b1-9676-36167006dc02",
   "metadata": {},
   "source": [
    "## Chat example"
   ]
  },
  {
   "cell_type": "code",
   "execution_count": 56,
   "id": "08f4cf89-b6c9-4c04-a6a3-1ea10f274096",
   "metadata": {},
   "outputs": [],
   "source": [
    "chat = client.chats.create(\n",
    "    model=model,\n",
    "    config=genai.types.GenerateContentConfig(\n",
    "        systemInstruction='Eres un asistente que responde de manera breve y concisa.',\n",
    "    ),\n",
    ")"
   ]
  },
  {
   "cell_type": "code",
   "execution_count": 57,
   "id": "e5af7288-1020-4423-a426-722b93155380",
   "metadata": {},
   "outputs": [
    {
     "name": "stdout",
     "output_type": "stream",
     "text": [
      "Un estado de ánimo caracterizado por emociones de alegría, satisfacción y bienestar.\n"
     ]
    }
   ],
   "source": [
    "r = chat.send_message('¿Qué es la felicidad?')\n",
    "print(r.text)"
   ]
  },
  {
   "cell_type": "code",
   "execution_count": 58,
   "id": "471637e5-b923-4b3b-a792-5ad58508a35d",
   "metadata": {},
   "outputs": [
    {
     "name": "stdout",
     "output_type": "stream",
     "text": [
      "La felicidad es subjetiva, influenciada por las circunstancias, las relaciones y la salud mental y física.\n"
     ]
    }
   ],
   "source": [
    "r = chat.send_message('Explicame por qué', )\n",
    "print(r.text)"
   ]
  },
  {
   "cell_type": "code",
   "execution_count": 59,
   "id": "d48b09be-ac37-40da-857a-793c40ba89b8",
   "metadata": {},
   "outputs": [
    {
     "data": {
      "text/plain": [
       "[UserContent(\n",
       "   parts=[\n",
       "     Part(\n",
       "       text='¿Qué es la felicidad?'\n",
       "     ),\n",
       "   ],\n",
       "   role='user'\n",
       " ),\n",
       " Content(\n",
       "   parts=[\n",
       "     Part(\n",
       "       text='Un estado de ánimo caracterizado por emociones de alegría, satisfacción y bienestar.'\n",
       "     ),\n",
       "   ],\n",
       "   role='model'\n",
       " ),\n",
       " UserContent(\n",
       "   parts=[\n",
       "     Part(\n",
       "       text='Explicame por qué'\n",
       "     ),\n",
       "   ],\n",
       "   role='user'\n",
       " ),\n",
       " Content(\n",
       "   parts=[\n",
       "     Part(\n",
       "       text='La felicidad es subjetiva, influenciada por las circunstancias, las relaciones y la salud mental y física.'\n",
       "     ),\n",
       "   ],\n",
       "   role='model'\n",
       " )]"
      ]
     },
     "execution_count": 59,
     "metadata": {},
     "output_type": "execute_result"
    }
   ],
   "source": [
    "chat._curated_history"
   ]
  },
  {
   "cell_type": "code",
   "execution_count": 66,
   "id": "c126f16c-bbb6-4239-8ebe-c64aabfb9486",
   "metadata": {},
   "outputs": [
    {
     "data": {
      "text/plain": [
       "[UserContent(\n",
       "   parts=[\n",
       "     Part(\n",
       "       text='¿Qué es la felicidad?'\n",
       "     ),\n",
       "   ],\n",
       "   role='user'\n",
       " ),\n",
       " Content(\n",
       "   parts=[\n",
       "     Part(\n",
       "       text='Un estado de ánimo caracterizado por emociones de alegría, satisfacción y bienestar.'\n",
       "     ),\n",
       "   ],\n",
       "   role='model'\n",
       " )]"
      ]
     },
     "execution_count": 66,
     "metadata": {},
     "output_type": "execute_result"
    }
   ],
   "source": [
    "# Eliminamos la ultima interaccion\n",
    "chat._curated_history = chat._curated_history[:-2]\n",
    "chat._curated_history"
   ]
  },
  {
   "cell_type": "code",
   "execution_count": 82,
   "id": "b46db699-c730-4806-80be-5445ced2eb49",
   "metadata": {},
   "outputs": [
    {
     "data": {
      "text/plain": [
       "[UserContent(\n",
       "   parts=[\n",
       "     Part(\n",
       "       text='¿Qué es la felicidad?'\n",
       "     ),\n",
       "   ],\n",
       "   role='user'\n",
       " ),\n",
       " Content(\n",
       "   parts=[\n",
       "     Part(\n",
       "       text='Es como una caja de chocolates con muchos sabores.'\n",
       "     ),\n",
       "   ],\n",
       "   role='model'\n",
       " )]"
      ]
     },
     "execution_count": 82,
     "metadata": {},
     "output_type": "execute_result"
    }
   ],
   "source": [
    "# Editamos la respuesta del modelo\n",
    "chat._curated_history[1].parts[0].text = 'Es como una caja de chocolates con muchos sabores.'\n",
    "chat._curated_history"
   ]
  },
  {
   "cell_type": "code",
   "execution_count": 83,
   "id": "2b136962-a52d-45aa-a14b-63eaef0cdb1e",
   "metadata": {},
   "outputs": [
    {
     "name": "stdout",
     "output_type": "stream",
     "text": [
      "La felicidad es subjetiva; lo que alegra a uno puede no alegrar a otro, al igual que las preferencias de sabor.\n"
     ]
    }
   ],
   "source": [
    "r = chat.send_message('Explicame por qué')\n",
    "print(r.text)"
   ]
  },
  {
   "cell_type": "markdown",
   "id": "384a2545",
   "metadata": {},
   "source": [
    "## Usando informacion externa"
   ]
  },
  {
   "cell_type": "code",
   "execution_count": 84,
   "id": "298bc716-f0c2-452c-9016-11fd69c23c43",
   "metadata": {},
   "outputs": [
    {
     "name": "stdout",
     "output_type": "stream",
     "text": [
      "```python\n",
      "import requests\n",
      "\n",
      "def read_url_text(url):\n",
      "  response = requests.get(url)\n",
      "  response.raise_for_status()\n",
      "  return response.text\n",
      "```\n",
      "\n"
     ]
    }
   ],
   "source": [
    "instructions = '''You are a helpful AI assistant expert coding with python that likes concise short code. \\\n",
    "Your task is to provide brief answers with concise code snippets.'''\n",
    "prompt = '''Using python, how can I read an url with a text file?, write a function that I can use like: \\\n",
    "`text = read_url_text(url)`'''\n",
    "r = client.models.generate_content(\n",
    "    model=model,\n",
    "    contents=prompt,\n",
    "    config=genai.types.GenerateContentConfig(systemInstruction=instructions),\n",
    ")\n",
    "print(r.text)"
   ]
  },
  {
   "cell_type": "code",
   "execution_count": 90,
   "id": "5e7d2be4-4cd7-4973-8e7f-6cbf00c368cc",
   "metadata": {},
   "outputs": [
    {
     "data": {
      "text/markdown": [
       "```python\n",
       "import requests\n",
       "\n",
       "def read_url_text(url):\n",
       "  response = requests.get(url)\n",
       "  response.raise_for_status()\n",
       "  return response.text\n",
       "```\n"
      ],
      "text/plain": [
       "<IPython.core.display.Markdown object>"
      ]
     },
     "execution_count": 90,
     "metadata": {},
     "output_type": "execute_result"
    }
   ],
   "source": [
    "# Usemos markdown para mostrar la respuesta del modelo\n",
    "from IPython.display import Markdown\n",
    "Markdown(r.text)"
   ]
  },
  {
   "cell_type": "code",
   "execution_count": 6,
   "id": "0255709a-c7b0-4a42-8749-f951e1021fc2",
   "metadata": {},
   "outputs": [],
   "source": [
    "import requests\n",
    "\n",
    "def read_url_text(url):\n",
    "  response = requests.get(url)\n",
    "  response.raise_for_status()\n",
    "  return response.text"
   ]
  },
  {
   "cell_type": "code",
   "execution_count": 95,
   "id": "683120f5-e5e1-4241-ba44-dc09c15ee2c5",
   "metadata": {},
   "outputs": [
    {
     "name": "stdout",
     "output_type": "stream",
     "text": [
      "\n",
      "How HDBSCAN Works\n",
      "=================\n",
      "\n",
      "HDBSCAN is a clustering algorithm developed by `Campello, Moulavi, and\n",
      "Sander <http://link.springer.com/chapter/10.1007%2F978-3-642-37456-2_14>`__.\n",
      "It extends DBSCAN by converting it into a hierarchical clustering\n",
      "algorithm, and then using a technique to extract a flat clustering based\n",
      "in the stability of clusters. The goal of this notebook is to give you\n",
      "an overview of how the algorithm works and the motivations behind it. In\n",
      "contrast to the HDBSCAN paper I'm going to describe it without reference\n",
      "to DBSCAN. Instead I'm going to explain how I like to think about the\n",
      "algorithm, which aligns more closely with `Robust Single\n",
      "Linkage <http://cseweb.ucsd.edu/~dasgupta/papers/tree.pdf>`__ with `flat\n",
      "cluster\n",
      "extraction <http://link.springer.com/article/10.10\n"
     ]
    }
   ],
   "source": [
    "documentation = read_url_text('https://hdbscan.readthedocs.io/en/latest/_sources/how_hdbscan_works.rst.txt')\n",
    "print(documentation[:800])"
   ]
  },
  {
   "cell_type": "code",
   "execution_count": 10,
   "id": "7dc02e4f-b31b-451f-874d-3e57445cda56",
   "metadata": {},
   "outputs": [
    {
     "name": "stdout",
     "output_type": "stream",
     "text": [
      ".. _clustering:\n",
      "\n",
      "==========\n",
      "Clustering\n",
      "==========\n",
      "\n",
      "`Clustering <https://en.wikipedia.org/wiki/Cluster_analysis>`__ of\n",
      "unlabeled data can be performed with the module :mod:`sklearn.cluster`.\n",
      "\n",
      "Each clustering algorithm comes in two variants: a class, that implements\n",
      "the ``fit`` method to learn the clu\n"
     ]
    }
   ],
   "source": [
    "documentation = read_url_text('https://scikit-learn.org/stable/_sources/modules/clustering.rst.txt')\n",
    "print(documentation[:300])"
   ]
  },
  {
   "cell_type": "code",
   "execution_count": 14,
   "id": "98c7b5a2-ea2f-4b7c-a5b7-06e159d96e34",
   "metadata": {},
   "outputs": [],
   "source": [
    "instructions = f'''\\\n",
    "<assistant>\n",
    "You are a helpful AI assistant specializing in answering questions about the HDBSCAN clustering \\\n",
    "algorithm. You will be provided with documentation and your task is to analyze the documentation to \\\n",
    "provide a clear, accurate answer to the user's question.\n",
    "</assistant>\n",
    "\n",
    "<documentation>\n",
    "{documentation}\n",
    "</documentation>\n",
    "\n",
    "<rules>\n",
    "- Maintain a concise, educational tone\n",
    "- Provide brief, clear explanation\n",
    "- Mention relevant documentation\n",
    "- If the question cannot be fully answered using only the provided documentation, state this clearly\n",
    "</rules>\n",
    "\n",
    "<style>\n",
    "- Use Markdown formatting in your responses\n",
    "</style>\n",
    "'''\n",
    "chat = client.chats.create(\n",
    "    model=model,\n",
    "    config=genai.types.GenerateContentConfig(systemInstruction=instructions),\n",
    ")"
   ]
  },
  {
   "cell_type": "code",
   "execution_count": 15,
   "id": "8470c326-6361-457a-90f2-43bcdcf73fc8",
   "metadata": {},
   "outputs": [
    {
     "data": {
      "text/markdown": [
       "HDBSCAN (Hierarchical Density-Based Spatial Clustering of Applications with Noise) is a clustering algorithm that extends DBSCAN by removing the assumption that the clustering criterion (density requirement) is globally homogeneous.\n",
       "\n",
       "Here's how it works, according to the documentation:\n",
       "\n",
       "1.  **Mutual Reachability Graph:** HDBSCAN computes core distances for each sample, which is the distance to its `min_samples`-th nearest neighbor. It then calculates the mutual reachability distance between pairs of points, which is the maximum of their core distances and the distance between them. These distances form the mutual reachability graph.\n",
       "\n",
       "2.  **Hierarchical Clustering:** HDBSCAN extracts a minimum spanning tree (MST) from the mutual reachability graph and then greedily cuts edges with the highest weight. This process is equivalent to performing DBSCAN\\* clustering across all possible density scales in a hierarchical fashion.\n",
       "\n",
       "3.  **Cluster Extraction:** HDBSCAN can be smoothed with the additional hyperparameter `min_cluster_size`, which specifies that during the hierarchical clustering, components with fewer than `minimum_cluster_size` many samples are considered noise. In practice, one can set `minimum_cluster_size = min_samples` to couple the parameters and simplify the hyperparameter space.\n",
       "\n",
       "You should consider using HDBSCAN when:\n",
       "\n",
       "*   Your data has **non-flat geometry** and **uneven cluster sizes**.\n",
       "*   You want **outlier removal**.\n",
       "*   You need a **hierarchical** clustering structure.\n",
       "*   Your clusters have **variable density**.\n",
       "*   You want to use a density-based clustering algorithm that doesn't assume clusters are globally homogeneous\n",
       "\n",
       "See the  :ref:`HDBSCAN <hdbscan>` section of the documentation for more details.\n"
      ],
      "text/plain": [
       "<IPython.core.display.Markdown object>"
      ]
     },
     "execution_count": 15,
     "metadata": {},
     "output_type": "execute_result"
    }
   ],
   "source": [
    "r = chat.send_message('''\\\n",
    "Help me build my intuition about the HDBSCAN clustering algorithm: How does it work? When should I use it?\n",
    "''')\n",
    "Markdown(r.text)"
   ]
  },
  {
   "cell_type": "code",
   "execution_count": 16,
   "id": "38573662-a5ca-4625-9a36-08968270f2a5",
   "metadata": {},
   "outputs": [
    {
     "data": {
      "text/markdown": [
       "HDBSCAN (Clustering Espacial Jerárquico Basado en Densidad de Aplicaciones con Ruido) es un algoritmo de clustering que extiende DBSCAN eliminando la suposición de que el criterio de clustering (requisito de densidad) es globalmente homogéneo.\n",
       "\n",
       "Así es como funciona, según la documentación:\n",
       "\n",
       "1.  **Gráfico de Mutua Alcanzabilidad (Mutual Reachability Graph):** HDBSCAN calcula las distancias centrales (core distances) para cada muestra, que es la distancia a su vecino más cercano número `min_samples`. Luego, calcula la distancia de mutua alcanzabilidad entre pares de puntos, que es el máximo de sus distancias centrales y la distancia entre ellos. Estas distancias forman el gráfico de mutua alcanzabilidad.\n",
       "\n",
       "2.  **Clustering Jerárquico (Hierarchical Clustering):** HDBSCAN extrae un árbol de expansión mínimo (MST) del gráfico de mutua alcanzabilidad y luego corta de forma codiciosa (greedy) las aristas con el peso más alto. Este proceso es equivalente a realizar clustering DBSCAN\\* en todas las posibles escalas de densidad de forma jerárquica.\n",
       "\n",
       "3.  **Extracción de Clústeres (Cluster Extraction):** HDBSCAN se puede suavizar con un hiperparámetro adicional `min_cluster_size`, que especifica que durante el clustering jerárquico, los componentes con menos de `minimum_cluster_size` muestras se consideran ruido. En la práctica, se puede establecer `minimum_cluster_size = min_samples` para acoplar los parámetros y simplificar el espacio de hiperparámetros.\n",
       "\n",
       "Deberías considerar usar HDBSCAN cuando:\n",
       "\n",
       "*   Tus datos tengan una **geometría no plana** y **tamaños de clúster desiguales**.\n",
       "*   Necesites **eliminar valores atípicos (outliers)**.\n",
       "*   Necesites una estructura de clustering **jerárquica**.\n",
       "*   Tus clústeres tengan **densidad variable**.\n",
       "*   Quieras utilizar un algoritmo de clustering basado en densidad que no asuma que los clústeres son globalmente homogéneos.\n",
       "\n",
       "Consulta la sección :ref:`HDBSCAN <hdbscan>` de la documentación para obtener más detalles.\n"
      ],
      "text/plain": [
       "<IPython.core.display.Markdown object>"
      ]
     },
     "execution_count": 16,
     "metadata": {},
     "output_type": "execute_result"
    }
   ],
   "source": [
    "r = chat.send_message('Translate your last answer to spanish.')\n",
    "Markdown(r.text)"
   ]
  },
  {
   "cell_type": "code",
   "execution_count": null,
   "id": "716b13cb-5270-40a8-8c21-b9d9da19c02d",
   "metadata": {},
   "outputs": [],
   "source": []
  }
 ],
 "metadata": {
  "kernelspec": {
   "display_name": "Python 3 (ipykernel)",
   "language": "python",
   "name": "python3"
  },
  "language_info": {
   "codemirror_mode": {
    "name": "ipython",
    "version": 3
   },
   "file_extension": ".py",
   "mimetype": "text/x-python",
   "name": "python",
   "nbconvert_exporter": "python",
   "pygments_lexer": "ipython3",
   "version": "3.12.9"
  }
 },
 "nbformat": 4,
 "nbformat_minor": 5
}
