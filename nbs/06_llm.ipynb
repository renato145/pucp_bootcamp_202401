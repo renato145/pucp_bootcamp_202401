{
 "cells": [
  {
   "cell_type": "code",
   "execution_count": 1,
   "id": "7bc3087c",
   "metadata": {},
   "outputs": [
    {
     "name": "stderr",
     "output_type": "stream",
     "text": [
      "/home/renato/miniforge3/lib/python3.10/site-packages/tqdm/auto.py:21: TqdmWarning: IProgress not found. Please update jupyter and ipywidgets. See https://ipywidgets.readthedocs.io/en/stable/user_install.html\n",
      "  from .autonotebook import tqdm as notebook_tqdm\n"
     ]
    }
   ],
   "source": [
    "from fastcore.all import *\n",
    "from gaspard import *"
   ]
  },
  {
   "cell_type": "code",
   "execution_count": 2,
   "id": "a7376e65-491a-4338-84f0-a65c137a03ef",
   "metadata": {},
   "outputs": [
    {
     "data": {
      "text/plain": [
       "('gemini-1.5-pro-exp-0827',\n",
       " 'gemini-1.5-flash-exp-0827',\n",
       " 'gemini-1.5-pro',\n",
       " 'gemini-1.5-flash')"
      ]
     },
     "execution_count": 2,
     "metadata": {},
     "output_type": "execute_result"
    }
   ],
   "source": [
    "models"
   ]
  },
  {
   "cell_type": "code",
   "execution_count": 3,
   "id": "dec8b664-4c12-460a-b0f4-6c630f01c2d8",
   "metadata": {},
   "outputs": [],
   "source": [
    "model = 'gemini-2.0-flash-exp'"
   ]
  },
  {
   "cell_type": "code",
   "execution_count": 4,
   "id": "d09580db-26ab-4bf0-90a8-69de4b77c065",
   "metadata": {},
   "outputs": [],
   "source": [
    "chat = Chat(model, sp='Eres un asistente que responde de manera breve y concisa.')"
   ]
  },
  {
   "cell_type": "code",
   "execution_count": 5,
   "id": "43815264-a563-4c28-a5bd-a09f0b948cba",
   "metadata": {},
   "outputs": [
    {
     "data": {
      "text/markdown": [
       "Un estado emocional caracterizado por sentimientos de alegría, satisfacción y bienestar.\n",
       "\n",
       "<details>\n",
       "\n",
       "- content: {'parts': [{'text': 'Un estado emocional caracterizado por sentimientos de alegría, satisfacción y bienestar.\\n'}], 'role': 'model'}\n",
       "- finish_reason: 1\n",
       "- safety_ratings: [{'category': 8, 'probability': 1, 'blocked': False}, {'category': 10, 'probability': 1, 'blocked': False}, {'category': 7, 'probability': 1, 'blocked': False}, {'category': 9, 'probability': 1, 'blocked': False}]\n",
       "- avg_logprobs: -0.14320910771687825\n",
       "- token_count: 0\n",
       "- grounding_attributions: []\n",
       "- prompt_token_count: 19\n",
       "- candidates_token_count: 15\n",
       "- total_token_count: 34\n",
       "- cached_content_token_count: 0\n",
       "\n",
       "</details>"
      ],
      "text/plain": [
       "response:\n",
       "GenerateContentResponse(\n",
       "    done=True,\n",
       "    iterator=None,\n",
       "    result=protos.GenerateContentResponse({\n",
       "      \"candidates\": [\n",
       "        {\n",
       "          \"content\": {\n",
       "            \"parts\": [\n",
       "              {\n",
       "                \"text\": \"Un estado emocional caracterizado por sentimientos de alegr\\u00eda, satisfacci\\u00f3n y bienestar.\\n\"\n",
       "              }\n",
       "            ],\n",
       "            \"role\": \"model\"\n",
       "          },\n",
       "          \"finish_reason\": \"STOP\",\n",
       "          \"safety_ratings\": [\n",
       "            {\n",
       "              \"category\": \"HARM_CATEGORY_HATE_SPEECH\",\n",
       "              \"probability\": \"NEGLIGIBLE\"\n",
       "            },\n",
       "            {\n",
       "              \"category\": \"HARM_CATEGORY_DANGEROUS_CONTENT\",\n",
       "              \"probability\": \"NEGLIGIBLE\"\n",
       "            },\n",
       "            {\n",
       "              \"category\": \"HARM_CATEGORY_HARASSMENT\",\n",
       "              \"probability\": \"NEGLIGIBLE\"\n",
       "            },\n",
       "            {\n",
       "              \"category\": \"HARM_CATEGORY_SEXUALLY_EXPLICIT\",\n",
       "              \"probability\": \"NEGLIGIBLE\"\n",
       "            }\n",
       "          ],\n",
       "          \"avg_logprobs\": -0.14320910771687825\n",
       "        }\n",
       "      ],\n",
       "      \"usage_metadata\": {\n",
       "        \"prompt_token_count\": 19,\n",
       "        \"candidates_token_count\": 15,\n",
       "        \"total_token_count\": 34\n",
       "      }\n",
       "    }),\n",
       ")"
      ]
     },
     "execution_count": 5,
     "metadata": {},
     "output_type": "execute_result"
    }
   ],
   "source": [
    "r = chat('¿Qué es la felicidad?')\n",
    "r"
   ]
  },
  {
   "cell_type": "code",
   "execution_count": 6,
   "id": "471637e5-b923-4b3b-a792-5ad58508a35d",
   "metadata": {},
   "outputs": [
    {
     "data": {
      "text/markdown": [
       "La felicidad es subjetiva y compleja, influenciada por factores como relaciones, salud, logros y experiencias personales. No hay una definición única.\n",
       "\n",
       "<details>\n",
       "\n",
       "- content: {'parts': [{'text': 'La felicidad es subjetiva y compleja, influenciada por factores como relaciones, salud, logros y experiencias personales. No hay una definición única.\\n'}], 'role': 'model'}\n",
       "- finish_reason: 1\n",
       "- safety_ratings: [{'category': 8, 'probability': 1, 'blocked': False}, {'category': 10, 'probability': 1, 'blocked': False}, {'category': 7, 'probability': 1, 'blocked': False}, {'category': 9, 'probability': 1, 'blocked': False}]\n",
       "- avg_logprobs: -0.4005617930971343\n",
       "- token_count: 0\n",
       "- grounding_attributions: []\n",
       "- prompt_token_count: 41\n",
       "- candidates_token_count: 29\n",
       "- total_token_count: 70\n",
       "- cached_content_token_count: 0\n",
       "\n",
       "</details>"
      ],
      "text/plain": [
       "response:\n",
       "GenerateContentResponse(\n",
       "    done=True,\n",
       "    iterator=None,\n",
       "    result=protos.GenerateContentResponse({\n",
       "      \"candidates\": [\n",
       "        {\n",
       "          \"content\": {\n",
       "            \"parts\": [\n",
       "              {\n",
       "                \"text\": \"La felicidad es subjetiva y compleja, influenciada por factores como relaciones, salud, logros y experiencias personales. No hay una definici\\u00f3n \\u00fanica.\\n\"\n",
       "              }\n",
       "            ],\n",
       "            \"role\": \"model\"\n",
       "          },\n",
       "          \"finish_reason\": \"STOP\",\n",
       "          \"safety_ratings\": [\n",
       "            {\n",
       "              \"category\": \"HARM_CATEGORY_HATE_SPEECH\",\n",
       "              \"probability\": \"NEGLIGIBLE\"\n",
       "            },\n",
       "            {\n",
       "              \"category\": \"HARM_CATEGORY_DANGEROUS_CONTENT\",\n",
       "              \"probability\": \"NEGLIGIBLE\"\n",
       "            },\n",
       "            {\n",
       "              \"category\": \"HARM_CATEGORY_HARASSMENT\",\n",
       "              \"probability\": \"NEGLIGIBLE\"\n",
       "            },\n",
       "            {\n",
       "              \"category\": \"HARM_CATEGORY_SEXUALLY_EXPLICIT\",\n",
       "              \"probability\": \"NEGLIGIBLE\"\n",
       "            }\n",
       "          ],\n",
       "          \"avg_logprobs\": -0.4005617930971343\n",
       "        }\n",
       "      ],\n",
       "      \"usage_metadata\": {\n",
       "        \"prompt_token_count\": 41,\n",
       "        \"candidates_token_count\": 29,\n",
       "        \"total_token_count\": 70\n",
       "      }\n",
       "    }),\n",
       ")"
      ]
     },
     "execution_count": 6,
     "metadata": {},
     "output_type": "execute_result"
    }
   ],
   "source": [
    "r = chat('Explicame por qué')\n",
    "r"
   ]
  },
  {
   "cell_type": "code",
   "execution_count": 7,
   "id": "d48b09be-ac37-40da-857a-793c40ba89b8",
   "metadata": {},
   "outputs": [
    {
     "data": {
      "text/plain": [
       "[{'role': 'user', 'parts': [{'text': '¿Qué es la felicidad?'}]},\n",
       " {'role': 'model',\n",
       "  'parts': ['Un estado emocional caracterizado por sentimientos de alegría, satisfacción y bienestar.\\n']},\n",
       " {'role': 'user', 'parts': [{'text': 'Explicame por qué'}]},\n",
       " {'role': 'model',\n",
       "  'parts': ['La felicidad es subjetiva y compleja, influenciada por factores como relaciones, salud, logros y experiencias personales. No hay una definición única.\\n']}]"
      ]
     },
     "execution_count": 7,
     "metadata": {},
     "output_type": "execute_result"
    }
   ],
   "source": [
    "chat.h"
   ]
  },
  {
   "cell_type": "code",
   "execution_count": 8,
   "id": "58f40bdd-0fdf-4177-ab0b-52afc6e9d9b6",
   "metadata": {},
   "outputs": [
    {
     "data": {
      "text/plain": [
       "[{'role': 'user', 'parts': [{'text': '¿Qué es la felicidad?'}]},\n",
       " {'role': 'model', 'parts': ['Es como una caja de chocolates.']}]"
      ]
     },
     "execution_count": 8,
     "metadata": {},
     "output_type": "execute_result"
    }
   ],
   "source": [
    "chat.h[1]['parts'][0] = 'Es como una caja de chocolates.'\n",
    "chat.h = chat.h[:-2]\n",
    "chat.h"
   ]
  },
  {
   "cell_type": "code",
   "execution_count": 9,
   "id": "2b136962-a52d-45aa-a14b-63eaef0cdb1e",
   "metadata": {},
   "outputs": [
    {
     "data": {
      "text/markdown": [
       "Cada persona experimenta la felicidad de manera diferente y tiene diversas formas de encontrarla.\n",
       "\n",
       "<details>\n",
       "\n",
       "- content: {'parts': [{'text': 'Cada persona experimenta la felicidad de manera diferente y tiene diversas formas de encontrarla.\\n'}], 'role': 'model'}\n",
       "- finish_reason: 1\n",
       "- safety_ratings: [{'category': 8, 'probability': 1, 'blocked': False}, {'category': 10, 'probability': 1, 'blocked': False}, {'category': 7, 'probability': 1, 'blocked': False}, {'category': 9, 'probability': 1, 'blocked': False}]\n",
       "- avg_logprobs: -0.9713996438419118\n",
       "- token_count: 0\n",
       "- grounding_attributions: []\n",
       "- prompt_token_count: 33\n",
       "- candidates_token_count: 17\n",
       "- total_token_count: 50\n",
       "- cached_content_token_count: 0\n",
       "\n",
       "</details>"
      ],
      "text/plain": [
       "response:\n",
       "GenerateContentResponse(\n",
       "    done=True,\n",
       "    iterator=None,\n",
       "    result=protos.GenerateContentResponse({\n",
       "      \"candidates\": [\n",
       "        {\n",
       "          \"content\": {\n",
       "            \"parts\": [\n",
       "              {\n",
       "                \"text\": \"Cada persona experimenta la felicidad de manera diferente y tiene diversas formas de encontrarla.\\n\"\n",
       "              }\n",
       "            ],\n",
       "            \"role\": \"model\"\n",
       "          },\n",
       "          \"finish_reason\": \"STOP\",\n",
       "          \"safety_ratings\": [\n",
       "            {\n",
       "              \"category\": \"HARM_CATEGORY_HATE_SPEECH\",\n",
       "              \"probability\": \"NEGLIGIBLE\"\n",
       "            },\n",
       "            {\n",
       "              \"category\": \"HARM_CATEGORY_DANGEROUS_CONTENT\",\n",
       "              \"probability\": \"NEGLIGIBLE\"\n",
       "            },\n",
       "            {\n",
       "              \"category\": \"HARM_CATEGORY_HARASSMENT\",\n",
       "              \"probability\": \"NEGLIGIBLE\"\n",
       "            },\n",
       "            {\n",
       "              \"category\": \"HARM_CATEGORY_SEXUALLY_EXPLICIT\",\n",
       "              \"probability\": \"NEGLIGIBLE\"\n",
       "            }\n",
       "          ],\n",
       "          \"avg_logprobs\": -0.9713996438419118\n",
       "        }\n",
       "      ],\n",
       "      \"usage_metadata\": {\n",
       "        \"prompt_token_count\": 33,\n",
       "        \"candidates_token_count\": 17,\n",
       "        \"total_token_count\": 50\n",
       "      }\n",
       "    }),\n",
       ")"
      ]
     },
     "execution_count": 9,
     "metadata": {},
     "output_type": "execute_result"
    }
   ],
   "source": [
    "r = chat('Explicame por qué')\n",
    "r"
   ]
  },
  {
   "cell_type": "markdown",
   "id": "384a2545",
   "metadata": {},
   "source": [
    "## Usando informacion externa"
   ]
  },
  {
   "cell_type": "code",
   "execution_count": 26,
   "id": "9bb7e0ba-0856-44d6-8aa2-d680c72e0e28",
   "metadata": {},
   "outputs": [],
   "source": [
    "sp = '''You are a helpful AI assistant expert coding with python that likes concise short code. \\\n",
    "Your task is to provide brief answers with concise code snippets.'''\n",
    "cli = Client(model, sp=sp)"
   ]
  },
  {
   "cell_type": "code",
   "execution_count": 27,
   "id": "f62d961f-c921-4b4a-80c0-c7943731c3c3",
   "metadata": {
    "scrolled": true
   },
   "outputs": [
    {
     "data": {
      "text/markdown": [
       "```python\n",
       "import requests\n",
       "\n",
       "def read_url_text(url):\n",
       "  return requests.get(url).text\n",
       "```\n",
       "\n",
       "<details>\n",
       "\n",
       "- content: {'parts': [{'text': '```python\\nimport requests\\n\\ndef read_url_text(url):\\n  return requests.get(url).text\\n```\\n'}], 'role': 'model'}\n",
       "- finish_reason: 1\n",
       "- safety_ratings: [{'category': 8, 'probability': 1, 'blocked': False}, {'category': 10, 'probability': 1, 'blocked': False}, {'category': 7, 'probability': 1, 'blocked': False}, {'category': 9, 'probability': 1, 'blocked': False}]\n",
       "- avg_logprobs: -0.012643449008464813\n",
       "- token_count: 0\n",
       "- grounding_attributions: []\n",
       "- prompt_token_count: 63\n",
       "- candidates_token_count: 28\n",
       "- total_token_count: 91\n",
       "- cached_content_token_count: 0\n",
       "\n",
       "</details>"
      ],
      "text/plain": [
       "response:\n",
       "GenerateContentResponse(\n",
       "    done=True,\n",
       "    iterator=None,\n",
       "    result=protos.GenerateContentResponse({\n",
       "      \"candidates\": [\n",
       "        {\n",
       "          \"content\": {\n",
       "            \"parts\": [\n",
       "              {\n",
       "                \"text\": \"```python\\nimport requests\\n\\ndef read_url_text(url):\\n  return requests.get(url).text\\n```\\n\"\n",
       "              }\n",
       "            ],\n",
       "            \"role\": \"model\"\n",
       "          },\n",
       "          \"finish_reason\": \"STOP\",\n",
       "          \"safety_ratings\": [\n",
       "            {\n",
       "              \"category\": \"HARM_CATEGORY_HATE_SPEECH\",\n",
       "              \"probability\": \"NEGLIGIBLE\"\n",
       "            },\n",
       "            {\n",
       "              \"category\": \"HARM_CATEGORY_DANGEROUS_CONTENT\",\n",
       "              \"probability\": \"NEGLIGIBLE\"\n",
       "            },\n",
       "            {\n",
       "              \"category\": \"HARM_CATEGORY_HARASSMENT\",\n",
       "              \"probability\": \"NEGLIGIBLE\"\n",
       "            },\n",
       "            {\n",
       "              \"category\": \"HARM_CATEGORY_SEXUALLY_EXPLICIT\",\n",
       "              \"probability\": \"NEGLIGIBLE\"\n",
       "            }\n",
       "          ],\n",
       "          \"avg_logprobs\": -0.012643449008464813\n",
       "        }\n",
       "      ],\n",
       "      \"usage_metadata\": {\n",
       "        \"prompt_token_count\": 63,\n",
       "        \"candidates_token_count\": 28,\n",
       "        \"total_token_count\": 91\n",
       "      }\n",
       "    }),\n",
       ")"
      ]
     },
     "execution_count": 27,
     "metadata": {},
     "output_type": "execute_result"
    }
   ],
   "source": [
    "cli('''Using python, how can I read an url with a text file?, write a function that I can use like: \\\n",
    "`text = read_url_text(url)`''')"
   ]
  },
  {
   "cell_type": "code",
   "execution_count": 28,
   "id": "15829e3b-ca23-453e-ae52-3ef077cd987c",
   "metadata": {},
   "outputs": [],
   "source": [
    "import requests\n",
    "\n",
    "def read_url_text(url): return requests.get(url).text"
   ]
  },
  {
   "cell_type": "code",
   "execution_count": 39,
   "id": "a90266e1-09fd-4279-9377-967a0dd6ccdd",
   "metadata": {},
   "outputs": [
    {
     "name": "stdout",
     "output_type": "stream",
     "text": [
      ".. _feature_extraction:\n",
      "\n",
      "==================\n",
      "Feature extraction\n",
      "==================\n",
      "\n",
      ".. currentmodule:: sklearn.feature_extraction\n",
      "\n",
      "The :mod:`sklearn.feature_extraction` module can be used to extract\n",
      "features in a format supported by machine learning algorithms from datasets\n",
      "consisting of formats such as text and image.\n",
      "\n",
      ".. note::\n",
      "\n",
      "   Feature extraction is very different from :ref:`feature_selection`:\n",
      "   the former consists in transforming arbitrary data, such as text or\n",
      "   images, into numerical \n"
     ]
    }
   ],
   "source": [
    "documentation = read_url_text('https://scikit-learn.org/stable/_sources/modules/feature_extraction.rst.txt')\n",
    "print(documentation[:500])"
   ]
  },
  {
   "cell_type": "code",
   "execution_count": 33,
   "id": "cab9d7e9",
   "metadata": {},
   "outputs": [],
   "source": [
    "sp = f'''You are a helpful AI assistant specializing in answering questions about the scikit-learn Python \\\n",
    "library. You will be provided with the library's documentation and a user's question. Your task is to analyze \\\n",
    "the documentation and provide a clear, accurate answer to the user's question.\n",
    "\n",
    "Here is the scikit-learn documentation:\n",
    "\n",
    "<documentation>\n",
    "{documentation}\n",
    "</documentation>\n",
    "\n",
    "Please follow these steps to formulate your response:\n",
    "\n",
    "1. Carefully read and analyze the provided documentation.\n",
    "2. Identify the relevant sections of the documentation that pertain to the user's question.\n",
    "3. Formulate a clear and concise answer based on the information in the documentation.\n",
    "4. If applicable, provide a brief code example to illustrate your answer.\n",
    "5. If the question cannot be fully answered using only the provided documentation, state this clearly \\\n",
    "and provide the best possible answer with the available information.\n",
    "\n",
    "Present your answer in the following format:\n",
    "\n",
    "<answer>\n",
    "[Your detailed explanation here]\n",
    "\n",
    "[Code example (if applicable)]\n",
    "\n",
    "[Any additional notes or caveats]\n",
    "</answer>\n",
    "\n",
    "Remember to focus solely on the information provided in the documentation and the user's specific question. \\\n",
    "Do not introduce external information or assumptions beyond what is given in the documentation.'''"
   ]
  },
  {
   "cell_type": "code",
   "execution_count": 34,
   "id": "bcb68c64-bf5d-40d5-bc52-7cafac282672",
   "metadata": {},
   "outputs": [],
   "source": [
    "chat = Chat(model, sp=sp)"
   ]
  },
  {
   "cell_type": "code",
   "execution_count": 35,
   "id": "b83e89a4-7519-4469-9cfe-e38320fd6dc6",
   "metadata": {},
   "outputs": [
    {
     "data": {
      "text/markdown": [
       "<answer>\n",
       "The documentation explains TF-IDF (Term Frequency-Inverse Document Frequency) as a way to re-weight the count features of text data into floating-point values, suitable for use in machine learning classifiers. It addresses the issue of common words (like \"the\", \"a\", \"is\") that appear frequently across documents but carry little specific meaning. These frequent terms can overshadow the importance of rarer, more informative terms if raw counts are used directly.\n",
       "\n",
       "Here's a breakdown to build your intuition:\n",
       "\n",
       "**Term Frequency (tf):**\n",
       "\n",
       "*   This is simply the number of times a term (word) appears in a given document.  A higher term frequency suggests the term is more relevant to that specific document.\n",
       "\n",
       "**Inverse Document Frequency (idf):**\n",
       "\n",
       "*   This measures how rare or common a term is across the entire corpus (collection of documents).\n",
       "*   It is calculated as `log(n / df(t)) + 1` (or `log((1 + n) / (1 + df(t))) + 1` with `smooth_idf=True`), where:\n",
       "    *   `n` is the total number of documents.\n",
       "    *   `df(t)` is the number of documents containing the term `t`.\n",
       "*   A high idf means the term is rare (appears in few documents), which makes it more important for distinguishing between documents. A low idf means the term is common and therefore less informative. The log is used to dampen the effect of very large document frequencies.\n",
       "*   The \"+ 1\" inside or outside the log and the addition of 1 to both the numerator and denominator are smoothing and avoid division by zero.\n",
       "\n",
       "**TF-IDF:**\n",
       "\n",
       "*   The TF-IDF value for a term in a document is calculated by multiplying its term frequency (tf) by its inverse document frequency (idf): `tf-idf(t,d) = tf(t,d) * idf(t)`.\n",
       "*   Intuitively, TF-IDF assigns a higher weight to terms that are frequent in a document *and* rare across the entire document set.  Terms that appear in many documents will have a lower idf, which will diminish their tf-idf scores.  Terms that are frequent in a specific document but not in many documents overall will have the highest scores.\n",
       "\n",
       "**Example:**\n",
       "\n",
       "Imagine two documents:\n",
       "\n",
       "*   Document 1: \"the cat sat on the mat\"\n",
       "*   Document 2: \"a dog chased the cat\"\n",
       "\n",
       "*   The word \"the\" is common to both, and will have a low idf.  Its tf-idf score in each document will also be reduced.\n",
       "*   The words \"mat\" and \"chased\" are specific to one document, and will have a high idf.  Their tf-idf will be higher, and more influential.\n",
       "*   The word \"cat\" appears in both but is not in *all* documents, so it will have a mid-level idf.\n",
       "\n",
       "**In summary:** TF-IDF helps to identify words that are both important in a document (high tf) and unique to the document within a corpus (high idf)\n",
       "\n",
       "**Code Snippet:**\n",
       "Here's an example that illustrates the basic steps with `TfidfTransformer`\n",
       "\n",
       "```python\n",
       "from sklearn.feature_extraction.text import TfidfTransformer\n",
       "import numpy as np\n",
       "\n",
       "counts = [[3, 0, 1],\n",
       "          [2, 0, 0],\n",
       "          [3, 0, 0],\n",
       "          [4, 0, 0],\n",
       "          [3, 2, 0],\n",
       "          [3, 0, 2]]\n",
       "transformer = TfidfTransformer(smooth_idf=False)\n",
       "tfidf = transformer.fit_transform(counts)\n",
       "print(tfidf.toarray())\n",
       "```\n",
       "\n",
       "**Additional Notes:**\n",
       "\n",
       "*   The `TfidfTransformer` normalizes the resulting vectors to unit length, which can be important for some distance or similarity calculations.\n",
       "*   The `TfidfVectorizer` class combines `CountVectorizer` and `TfidfTransformer` into a single step, which is usually more convenient.\n",
       "*   The default settings of `TfidfTransformer` includes smooth idf (`smooth_idf=True`), using the formula :math:`\\text{idf}(t) = \\log{\\frac{1 + n}{1+\\text{df}(t)}} + 1` instead of  :math:`\\text{idf}(t) = \\log{\\frac{n}{\\text{df}(t)}} + 1`.\n",
       "\n",
       "This process results in a numerical representation of text data that reflects the relative importance of words within the corpus.\n",
       "</answer>\n",
       "\n",
       "<details>\n",
       "\n",
       "- content: {'parts': [{'text': '<answer>\\nThe documentation explains TF-IDF (Term Frequency-Inverse Document Frequency) as a way to re-weight the count features of text data into floating-point values, suitable for use in machine learning classifiers. It addresses the issue of common words (like \"the\", \"a\", \"is\") that appear frequently across documents but carry little specific meaning. These frequent terms can overshadow the importance of rarer, more informative terms if raw counts are used directly.\\n\\nHere\\'s a breakdown to build your intuition:\\n\\n**Term Frequency (tf):**\\n\\n*   This is simply the number of times a term (word) appears in a given document.  A higher term frequency suggests the term is more relevant to that specific document.\\n\\n**Inverse Document Frequency (idf):**\\n\\n*   This measures how rare or common a term is across the entire corpus (collection of documents).\\n*   It is calculated as `log(n / df(t)) + 1` (or `log((1 + n) / (1 + df(t))) + 1` with `smooth_idf=True`), where:\\n    *   `n` is the total number of documents.\\n    *   `df(t)` is the number of documents containing the term `t`.\\n*   A high idf means the term is rare (appears in few documents), which makes it more important for distinguishing between documents. A low idf means the term is common and therefore less informative. The log is used to dampen the effect of very large document frequencies.\\n*   The \"+ 1\" inside or outside the log and the addition of 1 to both the numerator and denominator are smoothing and avoid division by zero.\\n\\n**TF-IDF:**\\n\\n*   The TF-IDF value for a term in a document is calculated by multiplying its term frequency (tf) by its inverse document frequency (idf): `tf-idf(t,d) = tf(t,d) * idf(t)`.\\n*   Intuitively, TF-IDF assigns a higher weight to terms that are frequent in a document *and* rare across the entire document set.  Terms that appear in many documents will have a lower idf, which will diminish their tf-idf scores.  Terms that are frequent in a specific document but not in many documents overall will have the highest scores.\\n\\n**Example:**\\n\\nImagine two documents:\\n\\n*   Document 1: \"the cat sat on the mat\"\\n*   Document 2: \"a dog chased the cat\"\\n\\n*   The word \"the\" is common to both, and will have a low idf.  Its tf-idf score in each document will also be reduced.\\n*   The words \"mat\" and \"chased\" are specific to one document, and will have a high idf.  Their tf-idf will be higher, and more influential.\\n*   The word \"cat\" appears in both but is not in *all* documents, so it will have a mid-level idf.\\n\\n**In summary:** TF-IDF helps to identify words that are both important in a document (high tf) and unique to the document within a corpus (high idf)\\n\\n**Code Snippet:**\\nHere\\'s an example that illustrates the basic steps with `TfidfTransformer`\\n\\n```python\\nfrom sklearn.feature_extraction.text import TfidfTransformer\\nimport numpy as np\\n\\ncounts = [[3, 0, 1],\\n          [2, 0, 0],\\n          [3, 0, 0],\\n          [4, 0, 0],\\n          [3, 2, 0],\\n          [3, 0, 2]]\\ntransformer = TfidfTransformer(smooth_idf=False)\\ntfidf = transformer.fit_transform(counts)\\nprint(tfidf.toarray())\\n```\\n\\n**Additional Notes:**\\n\\n*   The `TfidfTransformer` normalizes the resulting vectors to unit length, which can be important for some distance or similarity calculations.\\n*   The `TfidfVectorizer` class combines `CountVectorizer` and `TfidfTransformer` into a single step, which is usually more convenient.\\n*   The default settings of `TfidfTransformer` includes smooth idf (`smooth_idf=True`), using the formula :math:`\\\\text{idf}(t) = \\\\log{\\\\frac{1 + n}{1+\\\\text{df}(t)}} + 1` instead of  :math:`\\\\text{idf}(t) = \\\\log{\\\\frac{n}{\\\\text{df}(t)}} + 1`.\\n\\nThis process results in a numerical representation of text data that reflects the relative importance of words within the corpus.\\n</answer>\\n'}], 'role': 'model'}\n",
       "- finish_reason: 1\n",
       "- safety_ratings: [{'category': 8, 'probability': 1, 'blocked': False}, {'category': 10, 'probability': 1, 'blocked': False}, {'category': 7, 'probability': 1, 'blocked': False}, {'category': 9, 'probability': 1, 'blocked': False}]\n",
       "- avg_logprobs: -0.44152701458527677\n",
       "- token_count: 0\n",
       "- grounding_attributions: []\n",
       "- prompt_token_count: 12871\n",
       "- candidates_token_count: 1005\n",
       "- total_token_count: 13876\n",
       "- cached_content_token_count: 0\n",
       "\n",
       "</details>"
      ],
      "text/plain": [
       "response:\n",
       "GenerateContentResponse(\n",
       "    done=True,\n",
       "    iterator=None,\n",
       "    result=protos.GenerateContentResponse({\n",
       "      \"candidates\": [\n",
       "        {\n",
       "          \"content\": {\n",
       "            \"parts\": [\n",
       "              {\n",
       "                \"text\": \"<answer>\\nThe documentation explains TF-IDF (Term Frequency-Inverse Document Frequency) as a way to re-weight the count features of text data into floating-point values, suitable for use in machine learning classifiers. It addresses the issue of common words (like \\\"the\\\", \\\"a\\\", \\\"is\\\") that appear frequently across documents but carry little specific meaning. These frequent terms can overshadow the importance of rarer, more informative terms if raw counts are used directly.\\n\\nHere's a breakdown to build your intuition:\\n\\n**Term Frequency (tf):**\\n\\n*   This is simply the number of times a term (word) appears in a given document.  A higher term frequency suggests the term is more relevant to that specific document.\\n\\n**Inverse Document Frequency (idf):**\\n\\n*   This measures how rare or common a term is across the entire corpus (collection of documents).\\n*   It is calculated as `log(n / df(t)) + 1` (or `log((1 + n) / (1 + df(t))) + 1` with `smooth_idf=True`), where:\\n    *   `n` is the total number of documents.\\n    *   `df(t)` is the number of documents containing the term `t`.\\n*   A high idf means the term is rare (appears in few documents), which makes it more important for distinguishing between documents. A low idf means the term is common and therefore less informative. The log is used to dampen the effect of very large document frequencies.\\n*   The \\\"+ 1\\\" inside or outside the log and the addition of 1 to both the numerator and denominator are smoothing and avoid division by zero.\\n\\n**TF-IDF:**\\n\\n*   The TF-IDF value for a term in a document is calculated by multiplying its term frequency (tf) by its inverse document frequency (idf): `tf-idf(t,d) = tf(t,d) * idf(t)`.\\n*   Intuitively, TF-IDF assigns a higher weight to terms that are frequent in a document *and* rare across the entire document set.  Terms that appear in many documents will have a lower idf, which will diminish their tf-idf scores.  Terms that are frequent in a specific document but not in many documents overall will have the highest scores.\\n\\n**Example:**\\n\\nImagine two documents:\\n\\n*   Document 1: \\\"the cat sat on the mat\\\"\\n*   Document 2: \\\"a dog chased the cat\\\"\\n\\n*   The word \\\"the\\\" is common to both, and will have a low idf.  Its tf-idf score in each document will also be reduced.\\n*   The words \\\"mat\\\" and \\\"chased\\\" are specific to one document, and will have a high idf.  Their tf-idf will be higher, and more influential.\\n*   The word \\\"cat\\\" appears in both but is not in *all* documents, so it will have a mid-level idf.\\n\\n**In summary:** TF-IDF helps to identify words that are both important in a document (high tf) and unique to the document within a corpus (high idf)\\n\\n**Code Snippet:**\\nHere's an example that illustrates the basic steps with `TfidfTransformer`\\n\\n```python\\nfrom sklearn.feature_extraction.text import TfidfTransformer\\nimport numpy as np\\n\\ncounts = [[3, 0, 1],\\n          [2, 0, 0],\\n          [3, 0, 0],\\n          [4, 0, 0],\\n          [3, 2, 0],\\n          [3, 0, 2]]\\ntransformer = TfidfTransformer(smooth_idf=False)\\ntfidf = transformer.fit_transform(counts)\\nprint(tfidf.toarray())\\n```\\n\\n**Additional Notes:**\\n\\n*   The `TfidfTransformer` normalizes the resulting vectors to unit length, which can be important for some distance or similarity calculations.\\n*   The `TfidfVectorizer` class combines `CountVectorizer` and `TfidfTransformer` into a single step, which is usually more convenient.\\n*   The default settings of `TfidfTransformer` includes smooth idf (`smooth_idf=True`), using the formula :math:`\\\\text{idf}(t) = \\\\log{\\\\frac{1 + n}{1+\\\\text{df}(t)}} + 1` instead of  :math:`\\\\text{idf}(t) = \\\\log{\\\\frac{n}{\\\\text{df}(t)}} + 1`.\\n\\nThis process results in a numerical representation of text data that reflects the relative importance of words within the corpus.\\n</answer>\\n\"\n",
       "              }\n",
       "            ],\n",
       "            \"role\": \"model\"\n",
       "          },\n",
       "          \"finish_reason\": \"STOP\",\n",
       "          \"safety_ratings\": [\n",
       "            {\n",
       "              \"category\": \"HARM_CATEGORY_HATE_SPEECH\",\n",
       "              \"probability\": \"NEGLIGIBLE\"\n",
       "            },\n",
       "            {\n",
       "              \"category\": \"HARM_CATEGORY_DANGEROUS_CONTENT\",\n",
       "              \"probability\": \"NEGLIGIBLE\"\n",
       "            },\n",
       "            {\n",
       "              \"category\": \"HARM_CATEGORY_HARASSMENT\",\n",
       "              \"probability\": \"NEGLIGIBLE\"\n",
       "            },\n",
       "            {\n",
       "              \"category\": \"HARM_CATEGORY_SEXUALLY_EXPLICIT\",\n",
       "              \"probability\": \"NEGLIGIBLE\"\n",
       "            }\n",
       "          ],\n",
       "          \"avg_logprobs\": -0.44152701458527677\n",
       "        }\n",
       "      ],\n",
       "      \"usage_metadata\": {\n",
       "        \"prompt_token_count\": 12871,\n",
       "        \"candidates_token_count\": 1005,\n",
       "        \"total_token_count\": 13876\n",
       "      }\n",
       "    }),\n",
       ")"
      ]
     },
     "execution_count": 35,
     "metadata": {},
     "output_type": "execute_result"
    }
   ],
   "source": [
    "r = chat('Help me build my intuition about TF-IDF.')\n",
    "r"
   ]
  },
  {
   "cell_type": "code",
   "execution_count": null,
   "id": "9f435217",
   "metadata": {},
   "outputs": [],
   "source": []
  },
  {
   "cell_type": "code",
   "execution_count": null,
   "id": "a268fab7",
   "metadata": {},
   "outputs": [],
   "source": []
  }
 ],
 "metadata": {
  "kernelspec": {
   "display_name": "base",
   "language": "python",
   "name": "base"
  },
  "language_info": {
   "codemirror_mode": {
    "name": "ipython",
    "version": 3
   },
   "file_extension": ".py",
   "mimetype": "text/x-python",
   "name": "python",
   "nbconvert_exporter": "python",
   "pygments_lexer": "ipython3",
   "version": "3.10.12"
  }
 },
 "nbformat": 4,
 "nbformat_minor": 5
}
