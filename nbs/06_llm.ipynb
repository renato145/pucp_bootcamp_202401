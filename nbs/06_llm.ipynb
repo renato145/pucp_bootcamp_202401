{
 "cells": [
  {
   "cell_type": "code",
   "execution_count": null,
   "id": "7bc3087c",
   "metadata": {},
   "outputs": [],
   "source": [
    "from openai import OpenAI\n",
    "from dotenv import load_dotenv\n",
    "load_dotenv();"
   ]
  },
  {
   "cell_type": "code",
   "execution_count": null,
   "id": "51d044e7",
   "metadata": {},
   "outputs": [],
   "source": [
    "client = OpenAI()"
   ]
  },
  {
   "cell_type": "code",
   "execution_count": null,
   "id": "4abc09bf",
   "metadata": {},
   "outputs": [],
   "source": [
    "res1 = client.chat.completions.create(\n",
    "  model='gpt-3.5-turbo',\n",
    "  messages=[\n",
    "    {'role': 'system', 'content': 'Eres un asistente que responde de manera breve y concisa.'},\n",
    "    {'role': 'user', 'content': '¿Qué es la felicidad?'},\n",
    "  ]\n",
    ")"
   ]
  },
  {
   "cell_type": "code",
   "execution_count": null,
   "id": "9e4aa5bf",
   "metadata": {},
   "outputs": [
    {
     "name": "stdout",
     "output_type": "stream",
     "text": [
      "La felicidad es un estado emocional de satisfacción y bienestar.\n"
     ]
    }
   ],
   "source": [
    "print(res1.choices[0].message.content)"
   ]
  },
  {
   "cell_type": "code",
   "execution_count": null,
   "id": "09b57a52",
   "metadata": {},
   "outputs": [],
   "source": [
    "res2 = client.chat.completions.create(\n",
    "  model='gpt-3.5-turbo',\n",
    "  messages=[\n",
    "    {'role': 'system', 'content': 'Eres un asistente que responde de manera breve y concisa.'},\n",
    "    {'role': 'user', 'content': '¿Qué es la felicidad?'},\n",
    "    {'role': 'assistant', 'content': res1.choices[0].message.content},\n",
    "    {'role': 'user', 'content': 'Explicame por qué'},\n",
    "  ]\n",
    ")"
   ]
  },
  {
   "cell_type": "code",
   "execution_count": null,
   "id": "567aeab3",
   "metadata": {},
   "outputs": [
    {
     "name": "stdout",
     "output_type": "stream",
     "text": [
      "La felicidad se puede entender como la experiencia subjetiva de sentirse bien, pleno y satisfecho con la vida. Se relaciona con la sensación de tener propósito y sentido en la vida, así como también de experimentar emociones positivas y tener relaciones saludables. Factores como la salud física y mental, el éxito personal, la conexión con otros y la capacidad de disfrutar y apreciar momentos simples pueden contribuir a la sensación de felicidad. Sin embargo, es importante recordar que la definición y experiencia de la felicidad pueden variar de una persona a otra.\n"
     ]
    }
   ],
   "source": [
    "print(res2.choices[0].message.content)"
   ]
  },
  {
   "cell_type": "code",
   "execution_count": null,
   "id": "f7fad095",
   "metadata": {},
   "outputs": [],
   "source": [
    "res3 = client.chat.completions.create(\n",
    "  model='gpt-3.5-turbo',\n",
    "  messages=[\n",
    "    {'role': 'system', 'content': 'Eres un asistente que responde de manera breve y concisa.'},\n",
    "    {'role': 'user', 'content': '¿Qué es la felicidad?'},\n",
    "    {'role': 'assistant', 'content': 'Es como una caja de chocolates.'},\n",
    "    {'role': 'user', 'content': 'Explicame por qué'},\n",
    "  ]\n",
    ")"
   ]
  },
  {
   "cell_type": "code",
   "execution_count": null,
   "id": "79f22e33",
   "metadata": {},
   "outputs": [
    {
     "name": "stdout",
     "output_type": "stream",
     "text": [
      "La comparación con una caja de chocolates hace alusión a que la felicidad puede ser diversa y variada para cada persona, al igual que los sabores de los chocolates pueden ser diferentes y el disfrute de cada uno puede ser único. Además, al igual que cada persona tiene sus preferencias en cuanto a sabores de chocolates, también hay diferentes cosas que nos pueden hacer felices a cada uno de nosotros.\n"
     ]
    }
   ],
   "source": [
    "print(res3.choices[0].message.content)"
   ]
  },
  {
   "cell_type": "code",
   "execution_count": null,
   "id": "1118f2ed",
   "metadata": {},
   "outputs": [],
   "source": []
  },
  {
   "cell_type": "code",
   "execution_count": null,
   "id": "623d461e",
   "metadata": {},
   "outputs": [],
   "source": []
  },
  {
   "cell_type": "code",
   "execution_count": null,
   "id": "a268fab7",
   "metadata": {},
   "outputs": [],
   "source": []
  }
 ],
 "metadata": {
  "kernelspec": {
   "display_name": "nl",
   "language": "python",
   "name": "nl"
  }
 },
 "nbformat": 4,
 "nbformat_minor": 5
}
