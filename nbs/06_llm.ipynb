{
 "cells": [
  {
   "cell_type": "code",
   "execution_count": null,
   "id": "7bc3087c",
   "metadata": {},
   "outputs": [],
   "source": [
    "from openai import OpenAI\n",
    "from dotenv import load_dotenv\n",
    "load_dotenv();"
   ]
  },
  {
   "cell_type": "code",
   "execution_count": null,
   "id": "51d044e7",
   "metadata": {},
   "outputs": [],
   "source": [
    "client = OpenAI()"
   ]
  },
  {
   "cell_type": "code",
   "execution_count": null,
   "id": "4abc09bf",
   "metadata": {},
   "outputs": [],
   "source": [
    "res1 = client.chat.completions.create(\n",
    "  model='gpt-3.5-turbo',\n",
    "  messages=[\n",
    "    {'role': 'system', 'content': 'Eres un asistente que responde de manera breve y concisa.'},\n",
    "    {'role': 'user', 'content': '¿Qué es la felicidad?'},\n",
    "  ]\n",
    ")"
   ]
  },
  {
   "cell_type": "code",
   "execution_count": null,
   "id": "9e4aa5bf",
   "metadata": {},
   "outputs": [
    {
     "name": "stdout",
     "output_type": "stream",
     "text": [
      "La felicidad es un estado emocional de satisfacción y bienestar.\n"
     ]
    }
   ],
   "source": [
    "print(res1.choices[0].message.content)"
   ]
  },
  {
   "cell_type": "code",
   "execution_count": null,
   "id": "09b57a52",
   "metadata": {},
   "outputs": [],
   "source": [
    "res2 = client.chat.completions.create(\n",
    "  model='gpt-3.5-turbo',\n",
    "  messages=[\n",
    "    {'role': 'system', 'content': 'Eres un asistente que responde de manera breve y concisa.'},\n",
    "    {'role': 'user', 'content': '¿Qué es la felicidad?'},\n",
    "    {'role': 'assistant', 'content': res1.choices[0].message.content},\n",
    "    {'role': 'user', 'content': 'Explicame por qué'},\n",
    "  ]\n",
    ")"
   ]
  },
  {
   "cell_type": "code",
   "execution_count": null,
   "id": "567aeab3",
   "metadata": {},
   "outputs": [
    {
     "name": "stdout",
     "output_type": "stream",
     "text": [
      "La felicidad se puede entender como la experiencia subjetiva de sentirse bien, pleno y satisfecho con la vida. Se relaciona con la sensación de tener propósito y sentido en la vida, así como también de experimentar emociones positivas y tener relaciones saludables. Factores como la salud física y mental, el éxito personal, la conexión con otros y la capacidad de disfrutar y apreciar momentos simples pueden contribuir a la sensación de felicidad. Sin embargo, es importante recordar que la definición y experiencia de la felicidad pueden variar de una persona a otra.\n"
     ]
    }
   ],
   "source": [
    "print(res2.choices[0].message.content)"
   ]
  },
  {
   "cell_type": "code",
   "execution_count": null,
   "id": "f7fad095",
   "metadata": {},
   "outputs": [],
   "source": [
    "res3 = client.chat.completions.create(\n",
    "  model='gpt-3.5-turbo',\n",
    "  messages=[\n",
    "    {'role': 'system', 'content': 'Eres un asistente que responde de manera breve y concisa.'},\n",
    "    {'role': 'user', 'content': '¿Qué es la felicidad?'},\n",
    "    {'role': 'assistant', 'content': 'Es como una caja de chocolates.'},\n",
    "    {'role': 'user', 'content': 'Explicame por qué'},\n",
    "  ]\n",
    ")"
   ]
  },
  {
   "cell_type": "code",
   "execution_count": null,
   "id": "79f22e33",
   "metadata": {},
   "outputs": [
    {
     "name": "stdout",
     "output_type": "stream",
     "text": [
      "La comparación con una caja de chocolates hace alusión a que la felicidad puede ser diversa y variada para cada persona, al igual que los sabores de los chocolates pueden ser diferentes y el disfrute de cada uno puede ser único. Además, al igual que cada persona tiene sus preferencias en cuanto a sabores de chocolates, también hay diferentes cosas que nos pueden hacer felices a cada uno de nosotros.\n"
     ]
    }
   ],
   "source": [
    "print(res3.choices[0].message.content)"
   ]
  },
  {
   "cell_type": "markdown",
   "id": "384a2545",
   "metadata": {},
   "source": [
    "## Usando informacion externa"
   ]
  },
  {
   "cell_type": "code",
   "execution_count": null,
   "id": "26d05c70",
   "metadata": {},
   "outputs": [],
   "source": [
    "question = '¿Cuál es el país más poblado del mundo?'"
   ]
  },
  {
   "cell_type": "code",
   "execution_count": null,
   "id": "77935514",
   "metadata": {},
   "outputs": [
    {
     "name": "stdout",
     "output_type": "stream",
     "text": [
      "China.\n"
     ]
    }
   ],
   "source": [
    "res = client.chat.completions.create(\n",
    "  model='gpt-3.5-turbo',\n",
    "  messages=[\n",
    "    {'role': 'system', 'content': 'Eres un asistente que responde de manera breve y concisa.'},\n",
    "    {'role': 'user', 'content': question},\n",
    "  ]\n",
    ")\n",
    "print(res.choices[0].message.content)"
   ]
  },
  {
   "cell_type": "code",
   "execution_count": null,
   "id": "623d461e",
   "metadata": {},
   "outputs": [],
   "source": [
    "from wikipediaapi import Wikipedia"
   ]
  },
  {
   "cell_type": "code",
   "execution_count": null,
   "id": "2c364fac",
   "metadata": {},
   "outputs": [],
   "source": [
    "wiki = Wikipedia('MyWikiAgent', 'es')"
   ]
  },
  {
   "cell_type": "code",
   "execution_count": null,
   "id": "d81d8df8",
   "metadata": {},
   "outputs": [],
   "source": [
    "res = wiki.page('India')"
   ]
  },
  {
   "cell_type": "code",
   "execution_count": null,
   "id": "fa7433b2",
   "metadata": {},
   "outputs": [
    {
     "data": {
      "text/plain": [
       "'La India,[9]\\u200b oficialmente República de la India (en hindi: भारत गणराज्य, Bhārat Gaṇarājya), es un país soberano ubicado en Asia del Sur. Con 1428 millones de habitantes, es el país más poblado del mundo. Su superficie es de 3 287 263 km²,[4]\\u200b lo cual lo ubica en el séptimo lugar entre los países más extensos del planeta.[10]\\u200b\\nLimita con el océano Índico al sur, con el mar Arábigo al oeste y con el golfo de Bengala al este, a lo largo de una línea costera de más de 7517 kilómetros.[11]\\u200b La India también limita con Pakistán al oeste;[12]\\u200b al norte con China, Nepal y Bután y al este con Bangladés y Birmania. Además, la India está ubicada cerca de las islas de Sri Lanka, Maldivas e Indonesia. Su capital es Nueva Delhi y su ciudad más poblada es Bombay.\\nHogar de la cultura del valle del Indo[13]\\u200b y una región histórica por sus rutas comerciales y grandes imperios, el subcontinente indio fue identificado por su riqueza cultural y comercial en la mayor parte de su larga historia. Cuatro de las religiones más importantes del mundo, el hinduismo (Sanātana Dharma), el budismo, el jainismo y el sijismo, se originaron allí, mientras que otras religiones como el zoroastrismo, el judaísmo, el cristianismo y el islam llegaron durante el I milenio, dando forma a diversas culturas de la región.\\nGradualmente anexada por la Compañía Británica de las Indias Orientales desde principios del siglo XVIII y colonizada por el Reino Unido desde mediados del siglo XIX, la India se convirtió en una nación independiente en 1947, tras una lucha por la independencia que estuvo marcada por un movimiento de no violencia, encabezada por Mahatma Gandhi.[14]\\u200b\\nLa India es una república federal[10]\\u200b compuesta por 28 estados y ocho territorios de la Unión[15]\\u200b con un sistema de democracia parlamentaria.[10]\\u200b \\nEn 2017, la economía india es la tercera más grande del mundo y la sexta en términos de PIB nominal. Las reformas económicas de 1991 la han transformado en una de las economías de más rápido crecimiento;[16]\\u200b sin embargo, todavía sufre de problemas como los altos niveles de pobreza, analfabetismo,[17]\\u200b epidemias, malnutrición y constantes violaciones de los derechos de las mujeres. En 2016, el 10 % más rico de la población posee el 55 % del ingreso nacional.[18]\\u200b Además de una sociedad plural en lo religioso, multilingüe y multiétnica, la India también alberga una flora y fauna diversas en diferentes hábitats protegidos.\\nAdemás, la República de la India es uno de los nueve países que poseen un arsenal nuclear y no es signataria del Tratado de No Proliferación Nuclear, dado que, en sus actuales términos, no le permitiría mantener su armamento atómico. La India pasó del puesto 140 al 177 entre 2016 y 2018 en el Índice de Desempeño Ambiental compilado por investigadores de las universidades de Yale y Columbia. En particular, el estudio destaca el «alarmante» deterioro de la calidad del aire.[19]\\u200b\\nLa India se caracteriza por una gran desigualdad social. El 1 % más rico de la población gana más del 20 % de la renta nacional total en 2021, mientras que el 50 % más pobre solo gana el 13 % de la renta nacional total. La India se encuentra actualmente entre los países más desiguales del mundo, según el Informe sobre la Desigualdad Mundial 2022, que califica a India de «país pobre y muy desigual con una élite rica».[20]\\u200b\\nEl hindi y el inglés son los dos idiomas nacionales oficiales en todo el territorio. Además, son idiomas nacionales los siguientes: asamés, bengalí, bodo, dogri, gujarati, himachal, kannada, kashmiri, konkani, maithili, malayalam, marathi, manipuri, nepalí, oriya, punjabi, sánscrito, santali, sindhi, tamil, telugu y urdu. El número de dialectos supera los 1600.'"
      ]
     },
     "execution_count": null,
     "metadata": {},
     "output_type": "execute_result"
    }
   ],
   "source": [
    "res.summary"
   ]
  },
  {
   "cell_type": "code",
   "execution_count": null,
   "id": "c9bf2ede",
   "metadata": {},
   "outputs": [
    {
     "name": "stdout",
     "output_type": "stream",
     "text": [
      "Responde la pregunta con ayuda del contexto proporcionado.\n",
      "\n",
      "## Contexto\n",
      "\n",
      "La India,[9]​ oficialmente República de la India (en hindi: भारत गणराज्य, Bhārat Gaṇarājya), es un país soberano ubicado en Asia del Sur. Con 1428 millones de habitantes, es el país más poblado del mundo. Su superficie es de 3 287 263 km²,[4]​ lo cual lo ubica en el séptimo lugar entre los países más extensos del planeta.[10]​\n",
      "Limita con el océano Índico al sur, con el mar Arábigo al oeste y con el golfo de Bengala al este, a lo largo de una línea costera de más de 7517 kilómetros.[11]​ La India también limita con Pakistán al oeste;[12]​ al norte con China, Nepal y Bután y al este con Bangladés y Birmania. Además, la India está ubicada cerca de las islas de Sri Lanka, Maldivas e Indonesia. Su capital es Nueva Delhi y su ciudad más poblada es Bombay.\n",
      "Hogar de la cultura del valle del Indo[13]​ y una región histórica por sus rutas comerciales y grandes imperios, el subcontinente indio fue identificado por su riqueza cultural y comercial en la mayor parte de su larga historia. Cuatro de las religiones más importantes del mundo, el hinduismo (Sanātana Dharma), el budismo, el jainismo y el sijismo, se originaron allí, mientras que otras religiones como el zoroastrismo, el judaísmo, el cristianismo y el islam llegaron durante el I milenio, dando forma a diversas culturas de la región.\n",
      "Gradualmente anexada por la Compañía Británica de las Indias Orientales desde principios del siglo XVIII y colonizada por el Reino Unido desde mediados del siglo XIX, la India se convirtió en una nación independiente en 1947, tras una lucha por la independencia que estuvo marcada por un movimiento de no violencia, encabezada por Mahatma Gandhi.[14]​\n",
      "La India es una república federal[10]​ compuesta por 28 estados y ocho territorios de la Unión[15]​ con un sistema de democracia parlamentaria.[10]​ \n",
      "En 2017, la economía india es la tercera más grande del mundo y la sexta en términos de PIB nominal. Las reformas económicas de 1991 la han transformado en una de las economías de más rápido crecimiento;[16]​ sin embargo, todavía sufre de problemas como los altos niveles de pobreza, analfabetismo,[17]​ epidemias, malnutrición y constantes violaciones de los derechos de las mujeres. En 2016, el 10 % más rico de la población posee el 55 % del ingreso nacional.[18]​ Además de una sociedad plural en lo religioso, multilingüe y multiétnica, la India también alberga una flora y fauna diversas en diferentes hábitats protegidos.\n",
      "Además, la República de la India es uno de los nueve países que poseen un arsenal nuclear y no es signataria del Tratado de No Proliferación Nuclear, dado que, en sus actuales términos, no le permitiría mantener su armamento atómico. La India pasó del puesto 140 al 177 entre 2016 y 2018 en el Índice de Desempeño Ambiental compilado por investigadores de las universidades de Yale y Columbia. En particular, el estudio destaca el «alarmante» deterioro de la calidad del aire.[19]​\n",
      "La India se caracteriza por una gran desigualdad social. El 1 % más rico de la población gana más del 20 % de la renta nacional total en 2021, mientras que el 50 % más pobre solo gana el 13 % de la renta nacional total. La India se encuentra actualmente entre los países más desiguales del mundo, según el Informe sobre la Desigualdad Mundial 2022, que califica a India de «país pobre y muy desigual con una élite rica».[20]​\n",
      "El hindi y el inglés son los dos idiomas nacionales oficiales en todo el territorio. Además, son idiomas nacionales los siguientes: asamés, bengalí, bodo, dogri, gujarati, himachal, kannada, kashmiri, konkani, maithili, malayalam, marathi, manipuri, nepalí, oriya, punjabi, sánscrito, santali, sindhi, tamil, telugu y urdu. El número de dialectos supera los 1600.\n",
      "\n",
      "## Pregunta\n",
      "\n",
      "¿Cuál es el país más poblado del mundo?\n"
     ]
    }
   ],
   "source": [
    "content = f'''Responde la pregunta con ayuda del contexto proporcionado.\n",
    "\n",
    "## Contexto\n",
    "\n",
    "{res.summary}\n",
    "\n",
    "## Pregunta\n",
    "\n",
    "{question}'''\n",
    "print(content)"
   ]
  },
  {
   "cell_type": "code",
   "execution_count": null,
   "id": "b8b32d58",
   "metadata": {},
   "outputs": [
    {
     "name": "stdout",
     "output_type": "stream",
     "text": [
      "El país más poblado del mundo es la India.\n"
     ]
    }
   ],
   "source": [
    "res = client.chat.completions.create(\n",
    "  model='gpt-3.5-turbo',\n",
    "  messages=[\n",
    "    {'role': 'system', 'content': 'Eres un asistente que responde de manera breve y concisa.'},\n",
    "    {'role': 'user', 'content': content},\n",
    "  ]\n",
    ")\n",
    "print(res.choices[0].message.content)"
   ]
  },
  {
   "cell_type": "code",
   "execution_count": null,
   "id": "cab9d7e9",
   "metadata": {},
   "outputs": [],
   "source": []
  },
  {
   "cell_type": "code",
   "execution_count": null,
   "id": "0c838db4",
   "metadata": {},
   "outputs": [],
   "source": []
  },
  {
   "cell_type": "code",
   "execution_count": null,
   "id": "9f435217",
   "metadata": {},
   "outputs": [],
   "source": []
  },
  {
   "cell_type": "code",
   "execution_count": null,
   "id": "a268fab7",
   "metadata": {},
   "outputs": [],
   "source": []
  }
 ],
 "metadata": {
  "kernelspec": {
   "display_name": "nl",
   "language": "python",
   "name": "nl"
  }
 },
 "nbformat": 4,
 "nbformat_minor": 5
}
