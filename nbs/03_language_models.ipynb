{
 "cells": [
  {
   "cell_type": "code",
   "execution_count": null,
   "id": "67c2e887",
   "metadata": {},
   "outputs": [],
   "source": [
    "from fastai.text.all import *"
   ]
  },
  {
   "cell_type": "markdown",
   "id": "90ae17ed",
   "metadata": {},
   "source": [
    "# Data"
   ]
  },
  {
   "cell_type": "code",
   "execution_count": null,
   "id": "00578412",
   "metadata": {},
   "outputs": [
    {
     "data": {
      "text/plain": [
       "(#2) [Path('/home/renato/.fastai/data/imdb_sample/texts.csv'),Path('/home/renato/.fastai/data/imdb_sample/models')]"
      ]
     },
     "execution_count": null,
     "metadata": {},
     "output_type": "execute_result"
    }
   ],
   "source": [
    "path = untar_data(URLs.IMDB_SAMPLE)\n",
    "path.ls()"
   ]
  },
  {
   "cell_type": "code",
   "execution_count": null,
   "id": "781520f7",
   "metadata": {},
   "outputs": [
    {
     "data": {
      "text/html": [
       "<div>\n",
       "<style scoped>\n",
       "    .dataframe tbody tr th:only-of-type {\n",
       "        vertical-align: middle;\n",
       "    }\n",
       "\n",
       "    .dataframe tbody tr th {\n",
       "        vertical-align: top;\n",
       "    }\n",
       "\n",
       "    .dataframe thead th {\n",
       "        text-align: right;\n",
       "    }\n",
       "</style>\n",
       "<table border=\"1\" class=\"dataframe\">\n",
       "  <thead>\n",
       "    <tr style=\"text-align: right;\">\n",
       "      <th></th>\n",
       "      <th>label</th>\n",
       "      <th>text</th>\n",
       "      <th>is_valid</th>\n",
       "    </tr>\n",
       "  </thead>\n",
       "  <tbody>\n",
       "    <tr>\n",
       "      <th>835</th>\n",
       "      <td>positive</td>\n",
       "      <td>This review contains spoilers for those who are not aware of the details of the true story on which this movie is based.&lt;br /&gt;&lt;br /&gt;The right to be presumed \"Innocent until proven guilty\" is a basic entitlement of anyone in a civilised society; but according to Fred Schepisi's partisan but sadly convincing story of a famous Australian murder trial, it was not granted to Lindy Chamberlain, accused of killing her baby. The story suggesting her innocence was unlikely (a dingo was alleged to have taken it), but those implying her guilt even more so, and there was no solid evidence against her....</td>\n",
       "      <td>True</td>\n",
       "    </tr>\n",
       "    <tr>\n",
       "      <th>926</th>\n",
       "      <td>positive</td>\n",
       "      <td>This is a movie that should be seen by everyone if you want to see great acting. Mr. Torn and Ms Farrel do an outstanding job. I think they should have it on TV again so a new audience can enjoy it. Wonderful performances.&lt;br /&gt;&lt;br /&gt;It gives you a real feel of what the pioneers had to go through both physically and emotionally. Great unheard of movie.&lt;br /&gt;&lt;br /&gt;It was done when Ms. Farrel was very young. I had always thought of her as a comedian, but this certainly is not a comedy and she is just wonderful. There is very little dialogs, but that just make it seem more real. Mr. Torn as a...</td>\n",
       "      <td>True</td>\n",
       "    </tr>\n",
       "    <tr>\n",
       "      <th>424</th>\n",
       "      <td>negative</td>\n",
       "      <td>I live in Salt Lake City and I'm not a Mormon, so why did I rent this movie? Well because I live in Utah and thought it'd be nice to see locations I know in a film. I really knew going into it that I wasn't going to get the inside jokes so I wasn't surprised when I sat with the deer in the headlights stare. What I was surprised at was the ant-non Mormon actions that were placed in this film.&lt;br /&gt;&lt;br /&gt;I know it's a Mormon film, catered to the members of the LDS Church, but I found it offensive because of the typical stereotype of people that isn't of their faith. Every non Mormon, which w...</td>\n",
       "      <td>False</td>\n",
       "    </tr>\n",
       "  </tbody>\n",
       "</table>\n",
       "</div>"
      ],
      "text/plain": [
       "        label  \\\n",
       "835  positive   \n",
       "926  positive   \n",
       "424  negative   \n",
       "\n",
       "                                                                                                                                                                                                                                                                                                                                                                                                                                                                                                                                                                                                                        text  \\\n",
       "835  This review contains spoilers for those who are not aware of the details of the true story on which this movie is based.<br /><br />The right to be presumed \"Innocent until proven guilty\" is a basic entitlement of anyone in a civilised society; but according to Fred Schepisi's partisan but sadly convincing story of a famous Australian murder trial, it was not granted to Lindy Chamberlain, accused of killing her baby. The story suggesting her innocence was unlikely (a dingo was alleged to have taken it), but those implying her guilt even more so, and there was no solid evidence against her....   \n",
       "926  This is a movie that should be seen by everyone if you want to see great acting. Mr. Torn and Ms Farrel do an outstanding job. I think they should have it on TV again so a new audience can enjoy it. Wonderful performances.<br /><br />It gives you a real feel of what the pioneers had to go through both physically and emotionally. Great unheard of movie.<br /><br />It was done when Ms. Farrel was very young. I had always thought of her as a comedian, but this certainly is not a comedy and she is just wonderful. There is very little dialogs, but that just make it seem more real. Mr. Torn as a...   \n",
       "424  I live in Salt Lake City and I'm not a Mormon, so why did I rent this movie? Well because I live in Utah and thought it'd be nice to see locations I know in a film. I really knew going into it that I wasn't going to get the inside jokes so I wasn't surprised when I sat with the deer in the headlights stare. What I was surprised at was the ant-non Mormon actions that were placed in this film.<br /><br />I know it's a Mormon film, catered to the members of the LDS Church, but I found it offensive because of the typical stereotype of people that isn't of their faith. Every non Mormon, which w...   \n",
       "\n",
       "     is_valid  \n",
       "835      True  \n",
       "926      True  \n",
       "424     False  "
      ]
     },
     "execution_count": null,
     "metadata": {},
     "output_type": "execute_result"
    }
   ],
   "source": [
    "df = pd.read_csv(path/'texts.csv')\n",
    "df.sample(3)"
   ]
  },
  {
   "cell_type": "code",
   "execution_count": null,
   "id": "cb306911",
   "metadata": {},
   "outputs": [
    {
     "data": {
      "text/html": [
       "\n",
       "<style>\n",
       "    /* Turns off some styling */\n",
       "    progress {\n",
       "        /* gets rid of default border in Firefox and Opera. */\n",
       "        border: none;\n",
       "        /* Needs to be in here for Safari polyfill so background images work as expected. */\n",
       "        background-size: auto;\n",
       "    }\n",
       "    progress:not([value]), progress:not([value])::-webkit-progress-bar {\n",
       "        background: repeating-linear-gradient(45deg, #7e7e7e, #7e7e7e 10px, #5c5c5c 10px, #5c5c5c 20px);\n",
       "    }\n",
       "    .progress-bar-interrupted, .progress-bar-interrupted::-webkit-progress-bar {\n",
       "        background: #F44336;\n",
       "    }\n",
       "</style>\n"
      ],
      "text/plain": [
       "<IPython.core.display.HTML object>"
      ]
     },
     "metadata": {},
     "output_type": "display_data"
    },
    {
     "data": {
      "text/html": [],
      "text/plain": [
       "<IPython.core.display.HTML object>"
      ]
     },
     "metadata": {},
     "output_type": "display_data"
    }
   ],
   "source": [
    "dls = TextDataLoaders.from_df(df, text_col='text', is_lm=True, valid_pct=0.1)"
   ]
  },
  {
   "cell_type": "code",
   "execution_count": null,
   "id": "f77209c2",
   "metadata": {},
   "outputs": [
    {
     "data": {
      "text/html": [
       "<table border=\"1\" class=\"dataframe\">\n",
       "  <thead>\n",
       "    <tr style=\"text-align: right;\">\n",
       "      <th></th>\n",
       "      <th>text</th>\n",
       "      <th>text_</th>\n",
       "    </tr>\n",
       "  </thead>\n",
       "  <tbody>\n",
       "    <tr>\n",
       "      <th>0</th>\n",
       "      <td>xxbos xxmaj okay , i was bored and decided to see this movie . xxmaj but i think the main thing that brought this movie down was that there would be a hour of footage , then basically that same hour repeated 4 times . xxmaj it consists of 1 . xxmaj gathering the troops and discussing the attack plan , 2 . xxmaj flashbacks to the men 's wives 3 .</td>\n",
       "      <td>xxmaj okay , i was bored and decided to see this movie . xxmaj but i think the main thing that brought this movie down was that there would be a hour of footage , then basically that same hour repeated 4 times . xxmaj it consists of 1 . xxmaj gathering the troops and discussing the attack plan , 2 . xxmaj flashbacks to the men 's wives 3 . xxmaj</td>\n",
       "    </tr>\n",
       "    <tr>\n",
       "      <th>1</th>\n",
       "      <td>especially the close - up shots where the details of the giant ( for those times ) 4 - engine xxunk ( then 18 , xxrep 3 0 + xxunk , now nearly xxunk ) can be seen . xxmaj good insight into the different levels of training that a pilot - xxunk went through on his way to being assigned to a xxunk crew ( of course , xxup very gender</td>\n",
       "      <td>the close - up shots where the details of the giant ( for those times ) 4 - engine xxunk ( then 18 , xxrep 3 0 + xxunk , now nearly xxunk ) can be seen . xxmaj good insight into the different levels of training that a pilot - xxunk went through on his way to being assigned to a xxunk crew ( of course , xxup very gender -</td>\n",
       "    </tr>\n",
       "    <tr>\n",
       "      <th>2</th>\n",
       "      <td>to care . xxmaj then it rushes through a resolution of all the outstanding problems in about a minute of screen time leaving the viewer feeling like they have just wasted their time . xxbos xxmaj if you like occasional nudity with junior high school level slap stick comedy , then look no further . \\n\\n xxmaj starting at about the halfway point , the beautiful and erotic xxmaj xxunk xxmaj xxunk</td>\n",
       "      <td>care . xxmaj then it rushes through a resolution of all the outstanding problems in about a minute of screen time leaving the viewer feeling like they have just wasted their time . xxbos xxmaj if you like occasional nudity with junior high school level slap stick comedy , then look no further . \\n\\n xxmaj starting at about the halfway point , the beautiful and erotic xxmaj xxunk xxmaj xxunk starts</td>\n",
       "    </tr>\n",
       "  </tbody>\n",
       "</table>"
      ],
      "text/plain": [
       "<IPython.core.display.HTML object>"
      ]
     },
     "metadata": {},
     "output_type": "display_data"
    }
   ],
   "source": [
    "dls.show_batch(max_n=3)"
   ]
  },
  {
   "cell_type": "markdown",
   "id": "cd13a12a",
   "metadata": {},
   "source": [
    "## Model"
   ]
  },
  {
   "cell_type": "code",
   "execution_count": null,
   "id": "f3d98db5",
   "metadata": {},
   "outputs": [],
   "source": [
    "learn = language_model_learner(dls, AWD_LSTM, metrics=[accuracy, perplexity], path=path, wd=0.1).to_fp16()"
   ]
  },
  {
   "cell_type": "code",
   "execution_count": null,
   "id": "1fd5a5d3",
   "metadata": {},
   "outputs": [
    {
     "data": {
      "text/plain": [
       "SequentialRNN(\n",
       "  (0): AWD_LSTM(\n",
       "    (encoder): Embedding(7080, 400, padding_idx=1)\n",
       "    (encoder_dp): EmbeddingDropout(\n",
       "      (emb): Embedding(7080, 400, padding_idx=1)\n",
       "    )\n",
       "    (rnns): ModuleList(\n",
       "      (0): WeightDropout(\n",
       "        (module): LSTM(400, 1152, batch_first=True)\n",
       "      )\n",
       "      (1): WeightDropout(\n",
       "        (module): LSTM(1152, 1152, batch_first=True)\n",
       "      )\n",
       "      (2): WeightDropout(\n",
       "        (module): LSTM(1152, 400, batch_first=True)\n",
       "      )\n",
       "    )\n",
       "    (input_dp): RNNDropout()\n",
       "    (hidden_dps): ModuleList(\n",
       "      (0-2): 3 x RNNDropout()\n",
       "    )\n",
       "  )\n",
       "  (1): LinearDecoder(\n",
       "    (decoder): Linear(in_features=400, out_features=7080, bias=True)\n",
       "    (output_dp): RNNDropout()\n",
       "  )\n",
       ")"
      ]
     },
     "execution_count": null,
     "metadata": {},
     "output_type": "execute_result"
    }
   ],
   "source": [
    "learn.model"
   ]
  },
  {
   "cell_type": "markdown",
   "id": "91c63b76",
   "metadata": {},
   "source": [
    "## Train"
   ]
  },
  {
   "cell_type": "code",
   "execution_count": null,
   "id": "09697fe3",
   "metadata": {},
   "outputs": [
    {
     "data": {
      "text/html": [
       "\n",
       "<style>\n",
       "    /* Turns off some styling */\n",
       "    progress {\n",
       "        /* gets rid of default border in Firefox and Opera. */\n",
       "        border: none;\n",
       "        /* Needs to be in here for Safari polyfill so background images work as expected. */\n",
       "        background-size: auto;\n",
       "    }\n",
       "    progress:not([value]), progress:not([value])::-webkit-progress-bar {\n",
       "        background: repeating-linear-gradient(45deg, #7e7e7e, #7e7e7e 10px, #5c5c5c 10px, #5c5c5c 20px);\n",
       "    }\n",
       "    .progress-bar-interrupted, .progress-bar-interrupted::-webkit-progress-bar {\n",
       "        background: #F44336;\n",
       "    }\n",
       "</style>\n"
      ],
      "text/plain": [
       "<IPython.core.display.HTML object>"
      ]
     },
     "metadata": {},
     "output_type": "display_data"
    },
    {
     "data": {
      "text/html": [
       "<table border=\"1\" class=\"dataframe\">\n",
       "  <thead>\n",
       "    <tr style=\"text-align: left;\">\n",
       "      <th>epoch</th>\n",
       "      <th>train_loss</th>\n",
       "      <th>valid_loss</th>\n",
       "      <th>accuracy</th>\n",
       "      <th>perplexity</th>\n",
       "      <th>time</th>\n",
       "    </tr>\n",
       "  </thead>\n",
       "  <tbody>\n",
       "    <tr>\n",
       "      <td>0</td>\n",
       "      <td>4.406633</td>\n",
       "      <td>3.977496</td>\n",
       "      <td>0.277549</td>\n",
       "      <td>53.383190</td>\n",
       "      <td>00:04</td>\n",
       "    </tr>\n",
       "    <tr>\n",
       "      <td>1</td>\n",
       "      <td>4.153448</td>\n",
       "      <td>3.931969</td>\n",
       "      <td>0.281024</td>\n",
       "      <td>51.007298</td>\n",
       "      <td>00:04</td>\n",
       "    </tr>\n",
       "  </tbody>\n",
       "</table>"
      ],
      "text/plain": [
       "<IPython.core.display.HTML object>"
      ]
     },
     "metadata": {},
     "output_type": "display_data"
    }
   ],
   "source": [
    "learn.fit_one_cycle(2, 1e-2)"
   ]
  },
  {
   "cell_type": "code",
   "execution_count": null,
   "id": "a8e6eae9",
   "metadata": {},
   "outputs": [
    {
     "data": {
      "text/html": [
       "\n",
       "<style>\n",
       "    /* Turns off some styling */\n",
       "    progress {\n",
       "        /* gets rid of default border in Firefox and Opera. */\n",
       "        border: none;\n",
       "        /* Needs to be in here for Safari polyfill so background images work as expected. */\n",
       "        background-size: auto;\n",
       "    }\n",
       "    progress:not([value]), progress:not([value])::-webkit-progress-bar {\n",
       "        background: repeating-linear-gradient(45deg, #7e7e7e, #7e7e7e 10px, #5c5c5c 10px, #5c5c5c 20px);\n",
       "    }\n",
       "    .progress-bar-interrupted, .progress-bar-interrupted::-webkit-progress-bar {\n",
       "        background: #F44336;\n",
       "    }\n",
       "</style>\n"
      ],
      "text/plain": [
       "<IPython.core.display.HTML object>"
      ]
     },
     "metadata": {},
     "output_type": "display_data"
    },
    {
     "data": {
      "text/html": [
       "<table border=\"1\" class=\"dataframe\">\n",
       "  <thead>\n",
       "    <tr style=\"text-align: left;\">\n",
       "      <th>epoch</th>\n",
       "      <th>train_loss</th>\n",
       "      <th>valid_loss</th>\n",
       "      <th>accuracy</th>\n",
       "      <th>perplexity</th>\n",
       "      <th>time</th>\n",
       "    </tr>\n",
       "  </thead>\n",
       "  <tbody>\n",
       "    <tr>\n",
       "      <td>0</td>\n",
       "      <td>3.957479</td>\n",
       "      <td>3.891485</td>\n",
       "      <td>0.284667</td>\n",
       "      <td>48.983585</td>\n",
       "      <td>00:05</td>\n",
       "    </tr>\n",
       "    <tr>\n",
       "      <td>1</td>\n",
       "      <td>3.903596</td>\n",
       "      <td>3.896640</td>\n",
       "      <td>0.284670</td>\n",
       "      <td>49.236752</td>\n",
       "      <td>00:05</td>\n",
       "    </tr>\n",
       "    <tr>\n",
       "      <td>2</td>\n",
       "      <td>3.803774</td>\n",
       "      <td>3.907343</td>\n",
       "      <td>0.282750</td>\n",
       "      <td>49.766567</td>\n",
       "      <td>00:05</td>\n",
       "    </tr>\n",
       "    <tr>\n",
       "      <td>3</td>\n",
       "      <td>3.649792</td>\n",
       "      <td>3.912997</td>\n",
       "      <td>0.282960</td>\n",
       "      <td>50.048725</td>\n",
       "      <td>00:05</td>\n",
       "    </tr>\n",
       "    <tr>\n",
       "      <td>4</td>\n",
       "      <td>3.479743</td>\n",
       "      <td>3.947564</td>\n",
       "      <td>0.283476</td>\n",
       "      <td>51.808987</td>\n",
       "      <td>00:05</td>\n",
       "    </tr>\n",
       "    <tr>\n",
       "      <td>5</td>\n",
       "      <td>3.303140</td>\n",
       "      <td>3.984378</td>\n",
       "      <td>0.281126</td>\n",
       "      <td>53.751865</td>\n",
       "      <td>00:05</td>\n",
       "    </tr>\n",
       "    <tr>\n",
       "      <td>6</td>\n",
       "      <td>3.143640</td>\n",
       "      <td>4.029212</td>\n",
       "      <td>0.279696</td>\n",
       "      <td>56.216568</td>\n",
       "      <td>00:05</td>\n",
       "    </tr>\n",
       "    <tr>\n",
       "      <td>7</td>\n",
       "      <td>2.997500</td>\n",
       "      <td>4.061234</td>\n",
       "      <td>0.276563</td>\n",
       "      <td>58.045921</td>\n",
       "      <td>00:05</td>\n",
       "    </tr>\n",
       "    <tr>\n",
       "      <td>8</td>\n",
       "      <td>2.897017</td>\n",
       "      <td>4.083318</td>\n",
       "      <td>0.277235</td>\n",
       "      <td>59.342052</td>\n",
       "      <td>00:05</td>\n",
       "    </tr>\n",
       "    <tr>\n",
       "      <td>9</td>\n",
       "      <td>2.845984</td>\n",
       "      <td>4.089329</td>\n",
       "      <td>0.276851</td>\n",
       "      <td>59.699833</td>\n",
       "      <td>00:05</td>\n",
       "    </tr>\n",
       "  </tbody>\n",
       "</table>"
      ],
      "text/plain": [
       "<IPython.core.display.HTML object>"
      ]
     },
     "metadata": {},
     "output_type": "display_data"
    }
   ],
   "source": [
    "learn.unfreeze()\n",
    "learn.fit_one_cycle(10, 2e-3)"
   ]
  },
  {
   "cell_type": "code",
   "execution_count": null,
   "id": "7cd89ec3",
   "metadata": {},
   "outputs": [],
   "source": [
    "learn.save_encoder('lm_encoder')"
   ]
  },
  {
   "cell_type": "code",
   "execution_count": null,
   "id": "f17d2fa1",
   "metadata": {},
   "outputs": [
    {
     "name": "stdout",
     "output_type": "stream",
     "text": [
      "- The movie was not very good . When it was shown , it was very different from the start . It had the same amount of humor , humor and humor as the first part , but did it get worse .\n",
      "- The movie was not very good . The movie was mostly predictable , with predictable plot twists , lack of plot , or lots of boring plot . It got really boring and the movie did n't work . \n",
      "\n",
      " The story\n",
      "- The movie was not very bad . The actors and actresses were terrible . The script was terrible , the dialogue was horrible , and the dialog was poor . The dialogue was awful and the script was poorly edited .\n"
     ]
    }
   ],
   "source": [
    "inp = 'The movie was not very'\n",
    "samples = 3\n",
    "for _ in range(samples):\n",
    "    res = learn.predict(inp, 40, temperature=0.75, no_bar=True)\n",
    "    print(f'- {res}')"
   ]
  },
  {
   "cell_type": "code",
   "execution_count": null,
   "id": "a1530c61",
   "metadata": {},
   "outputs": [],
   "source": []
  },
  {
   "cell_type": "code",
   "execution_count": null,
   "id": "9f6eec46",
   "metadata": {},
   "outputs": [],
   "source": []
  },
  {
   "cell_type": "code",
   "execution_count": null,
   "id": "3b58d21a",
   "metadata": {},
   "outputs": [],
   "source": []
  }
 ],
 "metadata": {
  "kernelspec": {
   "display_name": "nl",
   "language": "python",
   "name": "nl"
  }
 },
 "nbformat": 4,
 "nbformat_minor": 5
}
