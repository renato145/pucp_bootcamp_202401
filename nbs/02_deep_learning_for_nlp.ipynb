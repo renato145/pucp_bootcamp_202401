{
 "cells": [
  {
   "cell_type": "code",
   "execution_count": 1,
   "id": "67c2e887",
   "metadata": {},
   "outputs": [],
   "source": [
    "from fastai.text.all import *\n",
    "import polars as pl"
   ]
  },
  {
   "cell_type": "code",
   "execution_count": 2,
   "id": "a4e79fd4-c07c-4b97-9b30-710c0a9c7b82",
   "metadata": {},
   "outputs": [],
   "source": [
    "pl.Config.set_fmt_str_lengths(200);"
   ]
  },
  {
   "cell_type": "markdown",
   "id": "f9dabb81-cf71-4101-b9ea-a6e0dcdde7da",
   "metadata": {},
   "source": [
    "# Data"
   ]
  },
  {
   "cell_type": "code",
   "execution_count": 3,
   "id": "e41e4dd2-5ba9-4363-bd6f-6d8b583dd6f9",
   "metadata": {},
   "outputs": [
    {
     "name": "stdout",
     "output_type": "stream",
     "text": [
      "(18000, 4)\n"
     ]
    },
    {
     "data": {
      "text/html": [
       "<div><style>\n",
       ".dataframe > thead > tr,\n",
       ".dataframe > tbody > tr {\n",
       "  text-align: right;\n",
       "  white-space: pre-wrap;\n",
       "}\n",
       "</style>\n",
       "<small>shape: (5, 4)</small><table border=\"1\" class=\"dataframe\"><thead><tr><th>text</th><th>label</th><th>is_valid</th><th>label_name</th></tr><tr><td>str</td><td>i64</td><td>bool</td><td>str</td></tr></thead><tbody><tr><td>&quot;i didnt feel humiliated&quot;</td><td>0</td><td>false</td><td>&quot;sadness&quot;</td></tr><tr><td>&quot;i can go from feeling so hopeless to so damned hopeful just from being around someone who cares and is awake&quot;</td><td>0</td><td>false</td><td>&quot;sadness&quot;</td></tr><tr><td>&quot;im grabbing a minute to post i feel greedy wrong&quot;</td><td>3</td><td>false</td><td>&quot;anger&quot;</td></tr><tr><td>&quot;i am ever feeling nostalgic about the fireplace i will know that it is still on the property&quot;</td><td>2</td><td>false</td><td>&quot;love&quot;</td></tr><tr><td>&quot;i am feeling grouchy&quot;</td><td>3</td><td>false</td><td>&quot;anger&quot;</td></tr></tbody></table></div>"
      ],
      "text/plain": [
       "shape: (5, 4)\n",
       "┌──────────────────────────────────────────────────────────────────┬───────┬──────────┬────────────┐\n",
       "│ text                                                             ┆ label ┆ is_valid ┆ label_name │\n",
       "│ ---                                                              ┆ ---   ┆ ---      ┆ ---        │\n",
       "│ str                                                              ┆ i64   ┆ bool     ┆ str        │\n",
       "╞══════════════════════════════════════════════════════════════════╪═══════╪══════════╪════════════╡\n",
       "│ i didnt feel humiliated                                          ┆ 0     ┆ false    ┆ sadness    │\n",
       "│ i can go from feeling so hopeless to so damned hopeful just from ┆ 0     ┆ false    ┆ sadness    │\n",
       "│ being around someone who cares and is awake                      ┆       ┆          ┆            │\n",
       "│ im grabbing a minute to post i feel greedy wrong                 ┆ 3     ┆ false    ┆ anger      │\n",
       "│ i am ever feeling nostalgic about the fireplace i will know that ┆ 2     ┆ false    ┆ love       │\n",
       "│ it is still on the property                                      ┆       ┆          ┆            │\n",
       "│ i am feeling grouchy                                             ┆ 3     ┆ false    ┆ anger      │\n",
       "└──────────────────────────────────────────────────────────────────┴───────┴──────────┴────────────┘"
      ]
     },
     "execution_count": 3,
     "metadata": {},
     "output_type": "execute_result"
    }
   ],
   "source": [
    "labels_dict = {0:'sadness', 1:'joy', 2:'love', 3:'anger', 4:'fear', 5:'surprise'}\n",
    "df = (\n",
    "    pl.concat([\n",
    "        pl.scan_csv('emotions-dataset/training.csv').with_columns(is_valid=False),\n",
    "        pl.scan_csv('emotions-dataset/validation.csv').with_columns(is_valid=True),\n",
    "    ])\n",
    "    .with_columns(pl.col.label.replace_strict(labels_dict).alias('label_name'))\n",
    "    .collect()\n",
    ")\n",
    "print(df.shape)\n",
    "df.head()"
   ]
  },
  {
   "cell_type": "code",
   "execution_count": 7,
   "id": "f4358d5d",
   "metadata": {},
   "outputs": [
    {
     "data": {
      "text/html": [
       "\n",
       "<style>\n",
       "    /* Turns off some styling */\n",
       "    progress {\n",
       "        /* gets rid of default border in Firefox and Opera. */\n",
       "        border: none;\n",
       "        /* Needs to be in here for Safari polyfill so background images work as expected. */\n",
       "        background-size: auto;\n",
       "    }\n",
       "    progress:not([value]), progress:not([value])::-webkit-progress-bar {\n",
       "        background: repeating-linear-gradient(45deg, #7e7e7e, #7e7e7e 10px, #5c5c5c 10px, #5c5c5c 20px);\n",
       "    }\n",
       "    .progress-bar-interrupted, .progress-bar-interrupted::-webkit-progress-bar {\n",
       "        background: #F44336;\n",
       "    }\n",
       "</style>\n"
      ],
      "text/plain": [
       "<IPython.core.display.HTML object>"
      ]
     },
     "metadata": {},
     "output_type": "display_data"
    },
    {
     "data": {
      "text/html": [],
      "text/plain": [
       "<IPython.core.display.HTML object>"
      ]
     },
     "metadata": {},
     "output_type": "display_data"
    },
    {
     "data": {
      "text/html": [
       "<table border=\"1\" class=\"dataframe\">\n",
       "  <thead>\n",
       "    <tr style=\"text-align: right;\">\n",
       "      <th></th>\n",
       "      <th>text</th>\n",
       "      <th>category</th>\n",
       "    </tr>\n",
       "  </thead>\n",
       "  <tbody>\n",
       "    <tr>\n",
       "      <th>0</th>\n",
       "      <td>xxbos i feel in my bones like nobody cares if i m here nobody cares if i m gone here i am again saying i m feeling so lonely people either say its ok to be alone or just go home it xxunk me and i do nt know why it does nt mean i do nt try i try and try but people just treat me like i m a xxunk</td>\n",
       "      <td>sadness</td>\n",
       "    </tr>\n",
       "    <tr>\n",
       "      <th>1</th>\n",
       "      <td>xxbos i might go out of existance i smile pick up my pen and fill the page with the things that you say the thoughts you obtain the moments you xxunk far away its cause you re going insane and suddenly i m left afraid because i m not feeling that way instead i m amazed why you got ta be that way</td>\n",
       "      <td>surprise</td>\n",
       "    </tr>\n",
       "    <tr>\n",
       "      <th>2</th>\n",
       "      <td>xxbos i feel rotten all week because i hardly ever see you that s why i wrote this hopeless song i ve never been in love with a girl like you before darling come with me such a wonderful thing has never happened to me before you re the only one who touched my heart it s all a question of courage</td>\n",
       "      <td>sadness</td>\n",
       "    </tr>\n",
       "  </tbody>\n",
       "</table>"
      ],
      "text/plain": [
       "<IPython.core.display.HTML object>"
      ]
     },
     "metadata": {},
     "output_type": "display_data"
    }
   ],
   "source": [
    "dls = TextDataLoaders.from_df(df.to_pandas(), text_col='text', label_col='label_name', valid_col='is_valid')\n",
    "dls.show_batch(max_n=3)"
   ]
  },
  {
   "cell_type": "code",
   "execution_count": 8,
   "id": "adeb5478-8418-47e9-be6b-2f895d10b985",
   "metadata": {},
   "outputs": [
    {
     "data": {
      "text/plain": [
       "(#5600) ['xxunk','xxpad','xxbos','xxeos','xxfld','xxrep','xxwrep','xxup','xxmaj','i','feel','and','to','the','a','that','feeling','of','my','in'...]"
      ]
     },
     "execution_count": 8,
     "metadata": {},
     "output_type": "execute_result"
    }
   ],
   "source": [
    "L(dls.numericalize.vocab)"
   ]
  },
  {
   "cell_type": "code",
   "execution_count": 9,
   "id": "2c428f6b-b219-4dce-b4e0-8d3c77306aa7",
   "metadata": {},
   "outputs": [
    {
     "data": {
      "text/plain": [
       "['anger', 'fear', 'joy', 'love', 'sadness', 'surprise']"
      ]
     },
     "execution_count": 9,
     "metadata": {},
     "output_type": "execute_result"
    }
   ],
   "source": [
    "dls.categorize.vocab"
   ]
  },
  {
   "cell_type": "code",
   "execution_count": 10,
   "id": "fa17a200-499e-4449-8243-bff6cd5ec4b0",
   "metadata": {},
   "outputs": [
    {
     "data": {
      "text/html": [
       "<div><style>\n",
       ".dataframe > thead > tr,\n",
       ".dataframe > tbody > tr {\n",
       "  text-align: right;\n",
       "  white-space: pre-wrap;\n",
       "}\n",
       "</style>\n",
       "<small>shape: (1, 4)</small><table border=\"1\" class=\"dataframe\"><thead><tr><th>text</th><th>label</th><th>is_valid</th><th>label_name</th></tr><tr><td>str</td><td>i64</td><td>bool</td><td>str</td></tr></thead><tbody><tr><td>&quot;i didnt feel humiliated&quot;</td><td>0</td><td>false</td><td>&quot;sadness&quot;</td></tr></tbody></table></div>"
      ],
      "text/plain": [
       "shape: (1, 4)\n",
       "┌─────────────────────────┬───────┬──────────┬────────────┐\n",
       "│ text                    ┆ label ┆ is_valid ┆ label_name │\n",
       "│ ---                     ┆ ---   ┆ ---      ┆ ---        │\n",
       "│ str                     ┆ i64   ┆ bool     ┆ str        │\n",
       "╞═════════════════════════╪═══════╪══════════╪════════════╡\n",
       "│ i didnt feel humiliated ┆ 0     ┆ false    ┆ sadness    │\n",
       "└─────────────────────────┴───────┴──────────┴────────────┘"
      ]
     },
     "execution_count": 10,
     "metadata": {},
     "output_type": "execute_result"
    }
   ],
   "source": [
    "df[0]"
   ]
  },
  {
   "cell_type": "code",
   "execution_count": 11,
   "id": "235cec57-73a3-47b2-86bd-b96e892159ff",
   "metadata": {},
   "outputs": [
    {
     "data": {
      "text/plain": [
       "(TensorText([  2,   9,  81,  36,  10, 654]), TensorCategory(4))"
      ]
     },
     "execution_count": 11,
     "metadata": {},
     "output_type": "execute_result"
    }
   ],
   "source": [
    "dls.train_ds[0]"
   ]
  },
  {
   "cell_type": "code",
   "execution_count": 12,
   "id": "7511a68c-f374-4790-b0e1-b231df1fff5c",
   "metadata": {},
   "outputs": [
    {
     "data": {
      "text/plain": [
       "'Label: sadness'"
      ]
     },
     "execution_count": 12,
     "metadata": {},
     "output_type": "execute_result"
    }
   ],
   "source": [
    "f'Label: {dls.categorize.vocab[dls.train_ds[0][1]]}'"
   ]
  },
  {
   "cell_type": "code",
   "execution_count": 13,
   "id": "4d025082-5546-44de-9dcd-a8e6879fc80e",
   "metadata": {},
   "outputs": [
    {
     "data": {
      "text/plain": [
       "['xxbos', 'i', 'did', 'nt', 'feel', 'humiliated']"
      ]
     },
     "execution_count": 13,
     "metadata": {},
     "output_type": "execute_result"
    }
   ],
   "source": [
    "[dls.numericalize.vocab[o] for o in dls.train_ds[0][0]]"
   ]
  },
  {
   "cell_type": "markdown",
   "id": "cd13a12a",
   "metadata": {},
   "source": [
    "## Model"
   ]
  },
  {
   "cell_type": "code",
   "execution_count": 14,
   "id": "82cc9897-dab3-436f-b2f4-d2e067de3763",
   "metadata": {},
   "outputs": [
    {
     "data": {
      "text/plain": [
       "5600"
      ]
     },
     "execution_count": 14,
     "metadata": {},
     "output_type": "execute_result"
    }
   ],
   "source": [
    "vocab_size = len(dls.numericalize.vocab)\n",
    "vocab_size"
   ]
  },
  {
   "cell_type": "code",
   "execution_count": 15,
   "id": "c195febf-f633-41b0-9dd7-a7ffaa8c757d",
   "metadata": {},
   "outputs": [
    {
     "data": {
      "text/plain": [
       "6"
      ]
     },
     "execution_count": 15,
     "metadata": {},
     "output_type": "execute_result"
    }
   ],
   "source": [
    "n_labels = len(dls.categorize.vocab)\n",
    "n_labels"
   ]
  },
  {
   "cell_type": "code",
   "execution_count": 16,
   "id": "520b835d",
   "metadata": {},
   "outputs": [],
   "source": [
    "class Model(nn.Module):\n",
    "    def __init__(self):\n",
    "        super().__init__()\n",
    "        self.embs = nn.Embedding(vocab_size, 100, padding_idx=1)\n",
    "        self.lstm = nn.LSTM(100, 20, batch_first=True)\n",
    "        self.fc = nn.Sequential(\n",
    "            nn.Linear(20, 8),\n",
    "            nn.ReLU(),\n",
    "            nn.Linear(8, n_labels)\n",
    "        )\n",
    "    \n",
    "    def forward(self, x, verbose=False):\n",
    "        embs = self.embs(x)\n",
    "        if verbose: print(f'embs: {embs.shape}')\n",
    "        h,_ = self.lstm(embs)\n",
    "        if verbose: print(f'h: {h.shape}')\n",
    "        h = h[:,-1]\n",
    "        if verbose: print(f'h[:,-1]: {h.shape}')\n",
    "        out = self.fc(h)\n",
    "        if verbose: print(f'out: {out.shape}')\n",
    "        return out\n",
    "    \n",
    "model = Model().cuda()"
   ]
  },
  {
   "cell_type": "code",
   "execution_count": 17,
   "id": "25182336",
   "metadata": {},
   "outputs": [
    {
     "data": {
      "text/plain": [
       "Model(\n",
       "  (embs): Embedding(5600, 100, padding_idx=1)\n",
       "  (lstm): LSTM(100, 20, batch_first=True)\n",
       "  (fc): Sequential(\n",
       "    (0): Linear(in_features=20, out_features=8, bias=True)\n",
       "    (1): ReLU()\n",
       "    (2): Linear(in_features=8, out_features=6, bias=True)\n",
       "  )\n",
       ")"
      ]
     },
     "execution_count": 17,
     "metadata": {},
     "output_type": "execute_result"
    }
   ],
   "source": [
    "model"
   ]
  },
  {
   "cell_type": "code",
   "execution_count": 18,
   "id": "db2bca1f-d134-4b70-bd69-01a22140e773",
   "metadata": {},
   "outputs": [
    {
     "name": "stdout",
     "output_type": "stream",
     "text": [
      "torch.Size([64, 72])\n",
      "torch.Size([64, 19])\n",
      "torch.Size([64, 11])\n"
     ]
    }
   ],
   "source": [
    "for i,(xb,yb) in enumerate(dls.train):\n",
    "    print(xb.shape)\n",
    "    if i==2: break"
   ]
  },
  {
   "cell_type": "code",
   "execution_count": 19,
   "id": "3baf15bb",
   "metadata": {},
   "outputs": [
    {
     "name": "stdout",
     "output_type": "stream",
     "text": [
      "embs: torch.Size([64, 11, 100])\n",
      "h: torch.Size([64, 11, 20])\n",
      "h[:,-1]: torch.Size([64, 20])\n",
      "out: torch.Size([64, 6])\n"
     ]
    }
   ],
   "source": [
    "with torch.no_grad(): res = model(xb, verbose=True)"
   ]
  },
  {
   "cell_type": "code",
   "execution_count": 20,
   "id": "c797eefd",
   "metadata": {},
   "outputs": [],
   "source": [
    "learn = Learner(dls, model, metrics=accuracy)"
   ]
  },
  {
   "cell_type": "markdown",
   "id": "f14b1357",
   "metadata": {},
   "source": [
    "## Train"
   ]
  },
  {
   "cell_type": "code",
   "execution_count": 21,
   "id": "27a842f5",
   "metadata": {},
   "outputs": [
    {
     "data": {
      "text/html": [
       "\n",
       "<style>\n",
       "    /* Turns off some styling */\n",
       "    progress {\n",
       "        /* gets rid of default border in Firefox and Opera. */\n",
       "        border: none;\n",
       "        /* Needs to be in here for Safari polyfill so background images work as expected. */\n",
       "        background-size: auto;\n",
       "    }\n",
       "    progress:not([value]), progress:not([value])::-webkit-progress-bar {\n",
       "        background: repeating-linear-gradient(45deg, #7e7e7e, #7e7e7e 10px, #5c5c5c 10px, #5c5c5c 20px);\n",
       "    }\n",
       "    .progress-bar-interrupted, .progress-bar-interrupted::-webkit-progress-bar {\n",
       "        background: #F44336;\n",
       "    }\n",
       "</style>\n"
      ],
      "text/plain": [
       "<IPython.core.display.HTML object>"
      ]
     },
     "metadata": {},
     "output_type": "display_data"
    },
    {
     "data": {
      "text/html": [
       "<table border=\"1\" class=\"dataframe\">\n",
       "  <thead>\n",
       "    <tr style=\"text-align: left;\">\n",
       "      <th>epoch</th>\n",
       "      <th>train_loss</th>\n",
       "      <th>valid_loss</th>\n",
       "      <th>accuracy</th>\n",
       "      <th>time</th>\n",
       "    </tr>\n",
       "  </thead>\n",
       "  <tbody>\n",
       "    <tr>\n",
       "      <td>0</td>\n",
       "      <td>1.557495</td>\n",
       "      <td>1.541906</td>\n",
       "      <td>0.390500</td>\n",
       "      <td>00:01</td>\n",
       "    </tr>\n",
       "    <tr>\n",
       "      <td>1</td>\n",
       "      <td>1.045136</td>\n",
       "      <td>0.887870</td>\n",
       "      <td>0.671000</td>\n",
       "      <td>00:01</td>\n",
       "    </tr>\n",
       "    <tr>\n",
       "      <td>2</td>\n",
       "      <td>0.427761</td>\n",
       "      <td>0.413745</td>\n",
       "      <td>0.864000</td>\n",
       "      <td>00:01</td>\n",
       "    </tr>\n",
       "    <tr>\n",
       "      <td>3</td>\n",
       "      <td>0.209701</td>\n",
       "      <td>0.236360</td>\n",
       "      <td>0.914000</td>\n",
       "      <td>00:01</td>\n",
       "    </tr>\n",
       "    <tr>\n",
       "      <td>4</td>\n",
       "      <td>0.122803</td>\n",
       "      <td>0.224680</td>\n",
       "      <td>0.912000</td>\n",
       "      <td>00:01</td>\n",
       "    </tr>\n",
       "    <tr>\n",
       "      <td>5</td>\n",
       "      <td>0.081514</td>\n",
       "      <td>0.218477</td>\n",
       "      <td>0.916000</td>\n",
       "      <td>00:01</td>\n",
       "    </tr>\n",
       "    <tr>\n",
       "      <td>6</td>\n",
       "      <td>0.055239</td>\n",
       "      <td>0.232407</td>\n",
       "      <td>0.922000</td>\n",
       "      <td>00:01</td>\n",
       "    </tr>\n",
       "    <tr>\n",
       "      <td>7</td>\n",
       "      <td>0.031727</td>\n",
       "      <td>0.247382</td>\n",
       "      <td>0.917000</td>\n",
       "      <td>00:01</td>\n",
       "    </tr>\n",
       "    <tr>\n",
       "      <td>8</td>\n",
       "      <td>0.021584</td>\n",
       "      <td>0.270350</td>\n",
       "      <td>0.921000</td>\n",
       "      <td>00:01</td>\n",
       "    </tr>\n",
       "    <tr>\n",
       "      <td>9</td>\n",
       "      <td>0.019629</td>\n",
       "      <td>0.273700</td>\n",
       "      <td>0.918500</td>\n",
       "      <td>00:01</td>\n",
       "    </tr>\n",
       "  </tbody>\n",
       "</table>"
      ],
      "text/plain": [
       "<IPython.core.display.HTML object>"
      ]
     },
     "metadata": {},
     "output_type": "display_data"
    }
   ],
   "source": [
    "learn.fit_one_cycle(10, 1e-2)"
   ]
  },
  {
   "cell_type": "code",
   "execution_count": 53,
   "id": "8010f32a",
   "metadata": {},
   "outputs": [
    {
     "data": {
      "text/html": [
       "\n",
       "<style>\n",
       "    /* Turns off some styling */\n",
       "    progress {\n",
       "        /* gets rid of default border in Firefox and Opera. */\n",
       "        border: none;\n",
       "        /* Needs to be in here for Safari polyfill so background images work as expected. */\n",
       "        background-size: auto;\n",
       "    }\n",
       "    progress:not([value]), progress:not([value])::-webkit-progress-bar {\n",
       "        background: repeating-linear-gradient(45deg, #7e7e7e, #7e7e7e 10px, #5c5c5c 10px, #5c5c5c 20px);\n",
       "    }\n",
       "    .progress-bar-interrupted, .progress-bar-interrupted::-webkit-progress-bar {\n",
       "        background: #F44336;\n",
       "    }\n",
       "</style>\n"
      ],
      "text/plain": [
       "<IPython.core.display.HTML object>"
      ]
     },
     "metadata": {},
     "output_type": "display_data"
    },
    {
     "data": {
      "text/html": [],
      "text/plain": [
       "<IPython.core.display.HTML object>"
      ]
     },
     "metadata": {},
     "output_type": "display_data"
    },
    {
     "data": {
      "text/html": [
       "<table border=\"1\" class=\"dataframe\">\n",
       "  <thead>\n",
       "    <tr style=\"text-align: right;\">\n",
       "      <th></th>\n",
       "      <th>text</th>\n",
       "      <th>category</th>\n",
       "      <th>category_</th>\n",
       "    </tr>\n",
       "  </thead>\n",
       "  <tbody>\n",
       "    <tr>\n",
       "      <th>0</th>\n",
       "      <td>xxbos i tell myself i do nt open my mouth and say what i really feel because i know i m a xxunk and i m smart enough to know i m a xxunk and i never ever know if what i m doing the choices i make are really what i want or need or even the right thing or if its the disease</td>\n",
       "      <td>joy</td>\n",
       "      <td>joy</td>\n",
       "    </tr>\n",
       "    <tr>\n",
       "      <th>1</th>\n",
       "      <td>xxbos i could nt hellip even when it made my heart ache to simply look at you hellip because i loved you so much and i knew you would never return my feelings hellip and i could nt bring myself to hate you for the idiotic xxunk you pulled in the other room either though i do ask that you do nt repeat it</td>\n",
       "      <td>sadness</td>\n",
       "      <td>sadness</td>\n",
       "    </tr>\n",
       "    <tr>\n",
       "      <th>2</th>\n",
       "      <td>xxbos i really want to watch it for the obvious romance reasons and i have a feeling like it would be a really funny kind of drama too i can also somewhat relate to the female main character who works with this boss who has a lot of pride and is a bit what you would like to call him as xxunk</td>\n",
       "      <td>surprise</td>\n",
       "      <td>surprise</td>\n",
       "    </tr>\n",
       "    <tr>\n",
       "      <th>3</th>\n",
       "      <td>xxbos i could go on and on right now about what we ve been through this year and what i ve learned what xxunk could do when and such but i wo nt because this would be a book and honestly i m not feeling fabulous today and xxunk has been dealing with a giant cold since thursday and we are wiped</td>\n",
       "      <td>joy</td>\n",
       "      <td>joy</td>\n",
       "    </tr>\n",
       "    <tr>\n",
       "      <th>4</th>\n",
       "      <td>xxbos i feel stressed out all the time i said and then i think about how people say stress causes cancer and i know it isn t true but i can t stop thinking that i need to relax or else my cancer will come back and then i get stressed out because i m stressed and it makes me feel worse</td>\n",
       "      <td>sadness</td>\n",
       "      <td>sadness</td>\n",
       "    </tr>\n",
       "    <tr>\n",
       "      <th>5</th>\n",
       "      <td>xxbos i just feel you so so don t be afraid i should hurt even more and pray again so i can find you again the more time passes the more it hurts i need you go back in time just one time forgive my sins if only i could turn things back this pain would be so so sloth</td>\n",
       "      <td>fear</td>\n",
       "      <td>fear</td>\n",
       "    </tr>\n",
       "    <tr>\n",
       "      <th>6</th>\n",
       "      <td>xxbos i know my xxunk is stronger than my behaviour over the weekend and i need to focus on the joy and health that all the great food i brought with me gives and how i could ve if i really wanted to indulge indulged in that great stuff i know its not the same but i would feel amazing</td>\n",
       "      <td>joy</td>\n",
       "      <td>joy</td>\n",
       "    </tr>\n",
       "    <tr>\n",
       "      <th>7</th>\n",
       "      <td>xxbos i have been out there over the last few weeks i experienced for the first time a feeling of loving the actual act of running of pushing my daughter in the xxunk of getting xxunk by my wife although this would happen if i was in top shape anyway of having cold air nail you in the face</td>\n",
       "      <td>love</td>\n",
       "      <td>love</td>\n",
       "    </tr>\n",
       "    <tr>\n",
       "      <th>8</th>\n",
       "      <td>xxbos i suggest you do though it might be hard cause it is a bit slow at times if you don t feel a bit of a tug at your heart or perhaps feel a tear xxunk in your tear xxunk i will declare that you are heartless and thus should be xxunk from the rest of the world</td>\n",
       "      <td>anger</td>\n",
       "      <td>anger</td>\n",
       "    </tr>\n",
       "  </tbody>\n",
       "</table>"
      ],
      "text/plain": [
       "<IPython.core.display.HTML object>"
      ]
     },
     "metadata": {},
     "output_type": "display_data"
    }
   ],
   "source": [
    "learn.show_results()"
   ]
  },
  {
   "cell_type": "code",
   "execution_count": 55,
   "id": "d0d6aed8-e507-45e4-ac5b-ab7757023851",
   "metadata": {},
   "outputs": [
    {
     "data": {
      "text/html": [
       "\n",
       "<style>\n",
       "    /* Turns off some styling */\n",
       "    progress {\n",
       "        /* gets rid of default border in Firefox and Opera. */\n",
       "        border: none;\n",
       "        /* Needs to be in here for Safari polyfill so background images work as expected. */\n",
       "        background-size: auto;\n",
       "    }\n",
       "    progress:not([value]), progress:not([value])::-webkit-progress-bar {\n",
       "        background: repeating-linear-gradient(45deg, #7e7e7e, #7e7e7e 10px, #5c5c5c 10px, #5c5c5c 20px);\n",
       "    }\n",
       "    .progress-bar-interrupted, .progress-bar-interrupted::-webkit-progress-bar {\n",
       "        background: #F44336;\n",
       "    }\n",
       "</style>\n"
      ],
      "text/plain": [
       "<IPython.core.display.HTML object>"
      ]
     },
     "metadata": {},
     "output_type": "display_data"
    },
    {
     "data": {
      "text/html": [],
      "text/plain": [
       "<IPython.core.display.HTML object>"
      ]
     },
     "metadata": {},
     "output_type": "display_data"
    }
   ],
   "source": [
    "interp = Interpretation.from_learner(learn)"
   ]
  },
  {
   "cell_type": "code",
   "execution_count": 60,
   "id": "9ca2b3a9-4f5c-4725-835e-29ae2f929531",
   "metadata": {},
   "outputs": [
    {
     "data": {
      "text/html": [
       "\n",
       "<style>\n",
       "    /* Turns off some styling */\n",
       "    progress {\n",
       "        /* gets rid of default border in Firefox and Opera. */\n",
       "        border: none;\n",
       "        /* Needs to be in here for Safari polyfill so background images work as expected. */\n",
       "        background-size: auto;\n",
       "    }\n",
       "    progress:not([value]), progress:not([value])::-webkit-progress-bar {\n",
       "        background: repeating-linear-gradient(45deg, #7e7e7e, #7e7e7e 10px, #5c5c5c 10px, #5c5c5c 20px);\n",
       "    }\n",
       "    .progress-bar-interrupted, .progress-bar-interrupted::-webkit-progress-bar {\n",
       "        background: #F44336;\n",
       "    }\n",
       "</style>\n"
      ],
      "text/plain": [
       "<IPython.core.display.HTML object>"
      ]
     },
     "metadata": {},
     "output_type": "display_data"
    },
    {
     "data": {
      "text/html": [],
      "text/plain": [
       "<IPython.core.display.HTML object>"
      ]
     },
     "metadata": {},
     "output_type": "display_data"
    },
    {
     "data": {
      "text/html": [
       "<table border=\"1\" class=\"dataframe\">\n",
       "  <thead>\n",
       "    <tr style=\"text-align: right;\">\n",
       "      <th></th>\n",
       "      <th>input</th>\n",
       "      <th>target</th>\n",
       "      <th>predicted</th>\n",
       "      <th>probability</th>\n",
       "      <th>loss</th>\n",
       "    </tr>\n",
       "  </thead>\n",
       "  <tbody>\n",
       "    <tr>\n",
       "      <th>0</th>\n",
       "      <td>xxbos i know exactly how she feels because i hated it so badly i got so depressed i was cutting myself when i got so low i started thinking about suicide i did run away to nyc the xxunk place from them where they would nt be able to find me</td>\n",
       "      <td>anger</td>\n",
       "      <td>sadness</td>\n",
       "      <td>0.9999885559082031</td>\n",
       "      <td>17.717792510986328</td>\n",
       "    </tr>\n",
       "    <tr>\n",
       "      <th>1</th>\n",
       "      <td>xxbos i like the three finger hands those simple details give it that xxunk feel again the paint choices while not terrible by any stretch of the imagination it doesn t blow me away and i would have liked to have seen these both in xxunk blue</td>\n",
       "      <td>sadness</td>\n",
       "      <td>love</td>\n",
       "      <td>0.9952428936958313</td>\n",
       "      <td>16.64166259765625</td>\n",
       "    </tr>\n",
       "    <tr>\n",
       "      <th>2</th>\n",
       "      <td>xxbos i don t always feel like i have amazing style and most days i choose comfort over anything else but there is one thing that i feel makes all the difference in how i feel about myself and that is makeup</td>\n",
       "      <td>surprise</td>\n",
       "      <td>joy</td>\n",
       "      <td>0.9999657869338989</td>\n",
       "      <td>13.931456565856934</td>\n",
       "    </tr>\n",
       "    <tr>\n",
       "      <th>3</th>\n",
       "      <td>xxbos i feel so amazing about taking this trip as i think ill finally be able to relax and feel comfortable at home and somehow just xxunk back into it</td>\n",
       "      <td>surprise</td>\n",
       "      <td>joy</td>\n",
       "      <td>0.9999949932098389</td>\n",
       "      <td>12.271406173706055</td>\n",
       "    </tr>\n",
       "    <tr>\n",
       "      <th>4</th>\n",
       "      <td>xxbos i am surprised that she is shocked by what i have said and begin to feel dismayed as she becomes increasingly sympathetic in her responses towards me</td>\n",
       "      <td>sadness</td>\n",
       "      <td>surprise</td>\n",
       "      <td>0.963080108165741</td>\n",
       "      <td>11.939552307128906</td>\n",
       "    </tr>\n",
       "  </tbody>\n",
       "</table>"
      ],
      "text/plain": [
       "<IPython.core.display.HTML object>"
      ]
     },
     "metadata": {},
     "output_type": "display_data"
    }
   ],
   "source": [
    "interp.plot_top_losses(5)"
   ]
  },
  {
   "cell_type": "code",
   "execution_count": 76,
   "id": "9c971503-27e7-4865-acd7-0d9c540d214f",
   "metadata": {},
   "outputs": [
    {
     "data": {
      "text/html": [
       "\n",
       "<style>\n",
       "    /* Turns off some styling */\n",
       "    progress {\n",
       "        /* gets rid of default border in Firefox and Opera. */\n",
       "        border: none;\n",
       "        /* Needs to be in here for Safari polyfill so background images work as expected. */\n",
       "        background-size: auto;\n",
       "    }\n",
       "    progress:not([value]), progress:not([value])::-webkit-progress-bar {\n",
       "        background: repeating-linear-gradient(45deg, #7e7e7e, #7e7e7e 10px, #5c5c5c 10px, #5c5c5c 20px);\n",
       "    }\n",
       "    .progress-bar-interrupted, .progress-bar-interrupted::-webkit-progress-bar {\n",
       "        background: #F44336;\n",
       "    }\n",
       "</style>\n"
      ],
      "text/plain": [
       "<IPython.core.display.HTML object>"
      ]
     },
     "metadata": {},
     "output_type": "display_data"
    },
    {
     "data": {
      "text/html": [],
      "text/plain": [
       "<IPython.core.display.HTML object>"
      ]
     },
     "metadata": {},
     "output_type": "display_data"
    },
    {
     "data": {
      "text/plain": [
       "('xxbos xxmaj write here some random phrase here',\n",
       " 'love',\n",
       " tensor(3),\n",
       " tensor([0.1439, 0.0289, 0.3381, 0.4497, 0.0082, 0.0313]))"
      ]
     },
     "execution_count": 76,
     "metadata": {},
     "output_type": "execute_result"
    }
   ],
   "source": [
    "learn.predict('Write here some random phrase here', with_input=True)"
   ]
  },
  {
   "cell_type": "code",
   "execution_count": null,
   "id": "1ded1d8e-d769-4f9a-bed0-daf02079dd4c",
   "metadata": {},
   "outputs": [],
   "source": []
  },
  {
   "cell_type": "code",
   "execution_count": null,
   "id": "ffcd9b2e-2291-43f5-beea-87e0558d2ee0",
   "metadata": {},
   "outputs": [],
   "source": []
  }
 ],
 "metadata": {
  "kernelspec": {
   "display_name": "Python 3 (ipykernel)",
   "language": "python",
   "name": "python3"
  },
  "language_info": {
   "codemirror_mode": {
    "name": "ipython",
    "version": 3
   },
   "file_extension": ".py",
   "mimetype": "text/x-python",
   "name": "python",
   "nbconvert_exporter": "python",
   "pygments_lexer": "ipython3",
   "version": "3.12.9"
  }
 },
 "nbformat": 4,
 "nbformat_minor": 5
}
