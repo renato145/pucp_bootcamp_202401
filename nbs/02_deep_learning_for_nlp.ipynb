{
 "cells": [
  {
   "cell_type": "code",
   "execution_count": null,
   "id": "67c2e887",
   "metadata": {},
   "outputs": [],
   "source": [
    "from fastai.text.all import *"
   ]
  },
  {
   "cell_type": "markdown",
   "id": "90ae17ed",
   "metadata": {},
   "source": [
    "# Data"
   ]
  },
  {
   "cell_type": "code",
   "execution_count": null,
   "id": "da78473f",
   "metadata": {},
   "outputs": [
    {
     "data": {
      "text/plain": [
       "(#2) [Path('/home/renato/.fastai/data/human_numbers/valid.txt'),Path('/home/renato/.fastai/data/human_numbers/train.txt')]"
      ]
     },
     "execution_count": null,
     "metadata": {},
     "output_type": "execute_result"
    }
   ],
   "source": [
    "path = untar_data(URLs.HUMAN_NUMBERS)\n",
    "path.ls()"
   ]
  },
  {
   "cell_type": "code",
   "execution_count": null,
   "id": "76c53efb",
   "metadata": {},
   "outputs": [],
   "source": [
    "x_train = [o.strip() for o in (path/'train.txt').readlines()]\n",
    "y_train = list(range(1, len(x_train)+1))"
   ]
  },
  {
   "cell_type": "code",
   "execution_count": null,
   "id": "f674ce77",
   "metadata": {},
   "outputs": [
    {
     "data": {
      "text/plain": [
       "(['one', 'two', 'three', 'four', 'five'], [1, 2, 3, 4, 5])"
      ]
     },
     "execution_count": null,
     "metadata": {},
     "output_type": "execute_result"
    }
   ],
   "source": [
    "x_train[:5], y_train[:5]"
   ]
  },
  {
   "cell_type": "code",
   "execution_count": null,
   "id": "0e973785",
   "metadata": {},
   "outputs": [
    {
     "data": {
      "text/plain": [
       "(['seven thousand nine hundred ninety seven',\n",
       "  'seven thousand nine hundred ninety eight',\n",
       "  'seven thousand nine hundred ninety nine'],\n",
       " [7997, 7998, 7999])"
      ]
     },
     "execution_count": null,
     "metadata": {},
     "output_type": "execute_result"
    }
   ],
   "source": [
    "x_train[-3:], y_train[-3:]"
   ]
  },
  {
   "cell_type": "code",
   "execution_count": null,
   "id": "ec255b1a",
   "metadata": {},
   "outputs": [],
   "source": [
    "x_valid = [o.strip() for o in (path/'valid.txt').readlines()]\n",
    "y_valid = list(range(8001, len(x_valid)+8001))"
   ]
  },
  {
   "cell_type": "code",
   "execution_count": null,
   "id": "372b6274",
   "metadata": {},
   "outputs": [
    {
     "data": {
      "text/plain": [
       "(['eight thousand one', 'eight thousand two', 'eight thousand three'],\n",
       " [8001, 8002, 8003])"
      ]
     },
     "execution_count": null,
     "metadata": {},
     "output_type": "execute_result"
    }
   ],
   "source": [
    "x_valid[:3], y_valid[:3]"
   ]
  },
  {
   "cell_type": "code",
   "execution_count": null,
   "id": "5c598194",
   "metadata": {},
   "outputs": [
    {
     "data": {
      "text/plain": [
       "(['nine thousand nine hundred ninety seven',\n",
       "  'nine thousand nine hundred ninety eight',\n",
       "  'nine thousand nine hundred ninety nine'],\n",
       " [9997, 9998, 9999])"
      ]
     },
     "execution_count": null,
     "metadata": {},
     "output_type": "execute_result"
    }
   ],
   "source": [
    "x_valid[-3:], y_valid[-3:]"
   ]
  },
  {
   "cell_type": "code",
   "execution_count": null,
   "id": "e73fc060",
   "metadata": {},
   "outputs": [
    {
     "data": {
      "text/html": [
       "<div>\n",
       "<style scoped>\n",
       "    .dataframe tbody tr th:only-of-type {\n",
       "        vertical-align: middle;\n",
       "    }\n",
       "\n",
       "    .dataframe tbody tr th {\n",
       "        vertical-align: top;\n",
       "    }\n",
       "\n",
       "    .dataframe thead th {\n",
       "        text-align: right;\n",
       "    }\n",
       "</style>\n",
       "<table border=\"1\" class=\"dataframe\">\n",
       "  <thead>\n",
       "    <tr style=\"text-align: right;\">\n",
       "      <th></th>\n",
       "      <th>text</th>\n",
       "      <th>label</th>\n",
       "      <th>is_valid</th>\n",
       "    </tr>\n",
       "  </thead>\n",
       "  <tbody>\n",
       "    <tr>\n",
       "      <th>3360</th>\n",
       "      <td>three thousand three hundred sixty one</td>\n",
       "      <td>3361</td>\n",
       "      <td>False</td>\n",
       "    </tr>\n",
       "    <tr>\n",
       "      <th>819</th>\n",
       "      <td>eight thousand eight hundred twenty</td>\n",
       "      <td>8820</td>\n",
       "      <td>True</td>\n",
       "    </tr>\n",
       "    <tr>\n",
       "      <th>1022</th>\n",
       "      <td>nine thousand twenty three</td>\n",
       "      <td>9023</td>\n",
       "      <td>True</td>\n",
       "    </tr>\n",
       "  </tbody>\n",
       "</table>\n",
       "</div>"
      ],
      "text/plain": [
       "                                        text  label  is_valid\n",
       "3360  three thousand three hundred sixty one   3361     False\n",
       "819      eight thousand eight hundred twenty   8820      True\n",
       "1022              nine thousand twenty three   9023      True"
      ]
     },
     "execution_count": null,
     "metadata": {},
     "output_type": "execute_result"
    }
   ],
   "source": [
    "df = pd.concat([    \n",
    "    pd.DataFrame({'text': x_train, 'label': y_train, 'is_valid': False}),\n",
    "    pd.DataFrame({'text': x_valid, 'label': y_valid, 'is_valid': True}),\n",
    "])\n",
    "df.sample(3)"
   ]
  },
  {
   "cell_type": "code",
   "execution_count": null,
   "id": "f4358d5d",
   "metadata": {},
   "outputs": [
    {
     "data": {
      "text/html": [
       "\n",
       "<style>\n",
       "    /* Turns off some styling */\n",
       "    progress {\n",
       "        /* gets rid of default border in Firefox and Opera. */\n",
       "        border: none;\n",
       "        /* Needs to be in here for Safari polyfill so background images work as expected. */\n",
       "        background-size: auto;\n",
       "    }\n",
       "    progress:not([value]), progress:not([value])::-webkit-progress-bar {\n",
       "        background: repeating-linear-gradient(45deg, #7e7e7e, #7e7e7e 10px, #5c5c5c 10px, #5c5c5c 20px);\n",
       "    }\n",
       "    .progress-bar-interrupted, .progress-bar-interrupted::-webkit-progress-bar {\n",
       "        background: #F44336;\n",
       "    }\n",
       "</style>\n"
      ],
      "text/plain": [
       "<IPython.core.display.HTML object>"
      ]
     },
     "metadata": {},
     "output_type": "display_data"
    },
    {
     "data": {
      "text/html": [],
      "text/plain": [
       "<IPython.core.display.HTML object>"
      ]
     },
     "metadata": {},
     "output_type": "display_data"
    },
    {
     "data": {
      "text/html": [
       "<table border=\"1\" class=\"dataframe\">\n",
       "  <thead>\n",
       "    <tr style=\"text-align: right;\">\n",
       "      <th></th>\n",
       "      <th>text</th>\n",
       "      <th>text_</th>\n",
       "    </tr>\n",
       "  </thead>\n",
       "  <tbody>\n",
       "    <tr>\n",
       "      <th>0</th>\n",
       "      <td>xxbos one thousand one hundred twenty one</td>\n",
       "      <td>1121.0</td>\n",
       "    </tr>\n",
       "    <tr>\n",
       "      <th>1</th>\n",
       "      <td>xxbos five thousand four hundred sixty five</td>\n",
       "      <td>5465.0</td>\n",
       "    </tr>\n",
       "    <tr>\n",
       "      <th>2</th>\n",
       "      <td>xxbos four thousand six hundred forty seven</td>\n",
       "      <td>4647.0</td>\n",
       "    </tr>\n",
       "  </tbody>\n",
       "</table>"
      ],
      "text/plain": [
       "<IPython.core.display.HTML object>"
      ]
     },
     "metadata": {},
     "output_type": "display_data"
    }
   ],
   "source": [
    "dls = TextDataLoaders.from_df(df, text_col='text', label_col='label', valid_col='is_valid',\n",
    "                              y_block=RegressionBlock)\n",
    "dls.show_batch(max_n=3)"
   ]
  },
  {
   "cell_type": "code",
   "execution_count": null,
   "id": "39b7df11",
   "metadata": {},
   "outputs": [
    {
     "data": {
      "text/plain": [
       "(#7999) [(TensorText([ 2, 11]), tensor(1.)),(TensorText([ 2, 12]), tensor(2.)),(TensorText([ 2, 13]), tensor(3.)),(TensorText([ 2, 14]), tensor(4.)),(TensorText([ 2, 15]), tensor(5.)),(TensorText([ 2, 16]), tensor(6.)),(TensorText([ 2, 17]), tensor(7.)),(TensorText([ 2, 19]), tensor(8.)),(TensorText([ 2, 18]), tensor(9.)),(TensorText([ 2, 28]), tensor(10.))...]"
      ]
     },
     "execution_count": null,
     "metadata": {},
     "output_type": "execute_result"
    }
   ],
   "source": [
    "dls.train_ds"
   ]
  },
  {
   "cell_type": "code",
   "execution_count": null,
   "id": "a96ce67f",
   "metadata": {},
   "outputs": [
    {
     "data": {
      "text/plain": [
       "(#1999) [(TensorText([ 2, 19, 10, 11]), tensor(8001.)),(TensorText([ 2, 19, 10, 12]), tensor(8002.)),(TensorText([ 2, 19, 10, 13]), tensor(8003.)),(TensorText([ 2, 19, 10, 14]), tensor(8004.)),(TensorText([ 2, 19, 10, 15]), tensor(8005.)),(TensorText([ 2, 19, 10, 16]), tensor(8006.)),(TensorText([ 2, 19, 10, 17]), tensor(8007.)),(TensorText([ 2, 19, 10, 19]), tensor(8008.)),(TensorText([ 2, 19, 10, 18]), tensor(8009.)),(TensorText([ 2, 19, 10, 28]), tensor(8010.))...]"
      ]
     },
     "execution_count": null,
     "metadata": {},
     "output_type": "execute_result"
    }
   ],
   "source": [
    "dls.valid_ds"
   ]
  },
  {
   "cell_type": "code",
   "execution_count": null,
   "id": "17b17a14",
   "metadata": {},
   "outputs": [
    {
     "data": {
      "text/plain": [
       "['xxunk',\n",
       " 'xxpad',\n",
       " 'xxbos',\n",
       " 'xxeos',\n",
       " 'xxfld',\n",
       " 'xxrep',\n",
       " 'xxwrep',\n",
       " 'xxup',\n",
       " 'xxmaj',\n",
       " 'hundred',\n",
       " 'thousand',\n",
       " 'one',\n",
       " 'two',\n",
       " 'three',\n",
       " 'four',\n",
       " 'five',\n",
       " 'six',\n",
       " 'seven',\n",
       " 'nine',\n",
       " 'eight',\n",
       " 'twenty',\n",
       " 'thirty',\n",
       " 'forty',\n",
       " 'fifty',\n",
       " 'sixty',\n",
       " 'seventy',\n",
       " 'eighty',\n",
       " 'ninety',\n",
       " 'ten',\n",
       " 'eleven',\n",
       " 'twelve',\n",
       " 'thirteen',\n",
       " 'fourteen',\n",
       " 'fifteen',\n",
       " 'sixteen',\n",
       " 'seventeen',\n",
       " 'eighteen',\n",
       " 'nineteen',\n",
       " 'xxfake',\n",
       " 'xxfake']"
      ]
     },
     "execution_count": null,
     "metadata": {},
     "output_type": "execute_result"
    }
   ],
   "source": [
    "dls.vocab"
   ]
  },
  {
   "cell_type": "code",
   "execution_count": null,
   "id": "fb563b67",
   "metadata": {},
   "outputs": [
    {
     "data": {
      "text/plain": [
       "(TensorText([ 2, 11]), tensor(1.))"
      ]
     },
     "execution_count": null,
     "metadata": {},
     "output_type": "execute_result"
    }
   ],
   "source": [
    "dls.train_ds[0]"
   ]
  },
  {
   "cell_type": "code",
   "execution_count": null,
   "id": "56870413",
   "metadata": {},
   "outputs": [
    {
     "data": {
      "text/plain": [
       "('xxbos', 'one')"
      ]
     },
     "execution_count": null,
     "metadata": {},
     "output_type": "execute_result"
    }
   ],
   "source": [
    "dls.vocab[2], dls.vocab[11]"
   ]
  },
  {
   "cell_type": "code",
   "execution_count": null,
   "id": "4d2d29a7",
   "metadata": {},
   "outputs": [],
   "source": [
    "# for xb,yb in progress_bar(dls.train):\n",
    "#     if xb.eq(1).any().item():\n",
    "#         print(':D')\n",
    "#         break"
   ]
  },
  {
   "cell_type": "markdown",
   "id": "cd13a12a",
   "metadata": {},
   "source": [
    "## Model"
   ]
  },
  {
   "cell_type": "code",
   "execution_count": null,
   "id": "77a1efdf",
   "metadata": {},
   "outputs": [
    {
     "data": {
      "text/plain": [
       "(TensorText([ 2, 11]), tensor(1.))"
      ]
     },
     "execution_count": null,
     "metadata": {},
     "output_type": "execute_result"
    }
   ],
   "source": [
    "dls.train_ds[0]"
   ]
  },
  {
   "cell_type": "code",
   "execution_count": null,
   "id": "49c6d3e6",
   "metadata": {},
   "outputs": [
    {
     "data": {
      "text/plain": [
       "(TensorText([ 2, 17, 10, 18,  9, 27, 18]), tensor(7999.))"
      ]
     },
     "execution_count": null,
     "metadata": {},
     "output_type": "execute_result"
    }
   ],
   "source": [
    "dls.train_ds[-1]"
   ]
  },
  {
   "cell_type": "code",
   "execution_count": null,
   "id": "4a98525d",
   "metadata": {},
   "outputs": [
    {
     "data": {
      "text/plain": [
       "(TensorText([ 2, 18, 10, 18,  9, 27, 18]), tensor(9999.))"
      ]
     },
     "execution_count": null,
     "metadata": {},
     "output_type": "execute_result"
    }
   ],
   "source": [
    "dls.valid_ds[-1]"
   ]
  },
  {
   "cell_type": "code",
   "execution_count": null,
   "id": "5db976bb",
   "metadata": {},
   "outputs": [
    {
     "data": {
      "text/plain": [
       "(torch.Size([64, 7]), torch.Size([64]))"
      ]
     },
     "execution_count": null,
     "metadata": {},
     "output_type": "execute_result"
    }
   ],
   "source": [
    "xb,yb = dls.one_batch()\n",
    "xb.shape, yb.shape"
   ]
  },
  {
   "cell_type": "code",
   "execution_count": null,
   "id": "520b835d",
   "metadata": {},
   "outputs": [],
   "source": [
    "class Model(nn.Module):\n",
    "    def __init__(self):\n",
    "        super().__init__()\n",
    "        self.embs = nn.Embedding(40, 100, padding_idx=1)\n",
    "        self.lstm = nn.LSTM(100, 20, batch_first=True)\n",
    "        self.fc = nn.Sequential(\n",
    "            nn.Linear(20, 8),\n",
    "            nn.Linear(8, 1)\n",
    "        )\n",
    "    \n",
    "    def forward(self, x):\n",
    "        embs = self.embs(x)\n",
    "        # print(embs.shape)\n",
    "        h,_ = self.lstm(embs)\n",
    "        h = h[:,-1]\n",
    "        return self.fc(h)\n",
    "    \n",
    "model = Model().cuda()"
   ]
  },
  {
   "cell_type": "code",
   "execution_count": null,
   "id": "25182336",
   "metadata": {},
   "outputs": [
    {
     "data": {
      "text/plain": [
       "Model(\n",
       "  (embs): Embedding(40, 100, padding_idx=1)\n",
       "  (lstm): LSTM(100, 20, batch_first=True)\n",
       "  (fc): Sequential(\n",
       "    (0): Linear(in_features=20, out_features=8, bias=True)\n",
       "    (1): Linear(in_features=8, out_features=1, bias=True)\n",
       "  )\n",
       ")"
      ]
     },
     "execution_count": null,
     "metadata": {},
     "output_type": "execute_result"
    }
   ],
   "source": [
    "model"
   ]
  },
  {
   "cell_type": "code",
   "execution_count": null,
   "id": "3baf15bb",
   "metadata": {},
   "outputs": [
    {
     "data": {
      "text/plain": [
       "torch.Size([64, 1])"
      ]
     },
     "execution_count": null,
     "metadata": {},
     "output_type": "execute_result"
    }
   ],
   "source": [
    "with torch.no_grad():\n",
    "    res = model(xb)\n",
    "res.shape"
   ]
  },
  {
   "cell_type": "code",
   "execution_count": null,
   "id": "c797eefd",
   "metadata": {},
   "outputs": [],
   "source": [
    "learn = Learner(dls, model, loss_func=L1LossFlat())"
   ]
  },
  {
   "cell_type": "markdown",
   "id": "f14b1357",
   "metadata": {},
   "source": [
    "## Train"
   ]
  },
  {
   "cell_type": "code",
   "execution_count": null,
   "id": "27a842f5",
   "metadata": {},
   "outputs": [
    {
     "data": {
      "text/html": [
       "\n",
       "<style>\n",
       "    /* Turns off some styling */\n",
       "    progress {\n",
       "        /* gets rid of default border in Firefox and Opera. */\n",
       "        border: none;\n",
       "        /* Needs to be in here for Safari polyfill so background images work as expected. */\n",
       "        background-size: auto;\n",
       "    }\n",
       "    progress:not([value]), progress:not([value])::-webkit-progress-bar {\n",
       "        background: repeating-linear-gradient(45deg, #7e7e7e, #7e7e7e 10px, #5c5c5c 10px, #5c5c5c 20px);\n",
       "    }\n",
       "    .progress-bar-interrupted, .progress-bar-interrupted::-webkit-progress-bar {\n",
       "        background: #F44336;\n",
       "    }\n",
       "</style>\n"
      ],
      "text/plain": [
       "<IPython.core.display.HTML object>"
      ]
     },
     "metadata": {},
     "output_type": "display_data"
    },
    {
     "data": {
      "text/html": [
       "<table border=\"1\" class=\"dataframe\">\n",
       "  <thead>\n",
       "    <tr style=\"text-align: left;\">\n",
       "      <th>epoch</th>\n",
       "      <th>train_loss</th>\n",
       "      <th>valid_loss</th>\n",
       "      <th>time</th>\n",
       "    </tr>\n",
       "  </thead>\n",
       "  <tbody>\n",
       "    <tr>\n",
       "      <td>0</td>\n",
       "      <td>1829.946289</td>\n",
       "      <td>6219.750000</td>\n",
       "      <td>00:01</td>\n",
       "    </tr>\n",
       "    <tr>\n",
       "      <td>1</td>\n",
       "      <td>1442.818359</td>\n",
       "      <td>5308.075684</td>\n",
       "      <td>00:01</td>\n",
       "    </tr>\n",
       "    <tr>\n",
       "      <td>2</td>\n",
       "      <td>829.451843</td>\n",
       "      <td>4518.303223</td>\n",
       "      <td>00:01</td>\n",
       "    </tr>\n",
       "    <tr>\n",
       "      <td>3</td>\n",
       "      <td>417.108124</td>\n",
       "      <td>4379.394531</td>\n",
       "      <td>00:01</td>\n",
       "    </tr>\n",
       "    <tr>\n",
       "      <td>4</td>\n",
       "      <td>230.437637</td>\n",
       "      <td>4466.254395</td>\n",
       "      <td>00:01</td>\n",
       "    </tr>\n",
       "    <tr>\n",
       "      <td>5</td>\n",
       "      <td>140.532700</td>\n",
       "      <td>4325.104004</td>\n",
       "      <td>00:01</td>\n",
       "    </tr>\n",
       "    <tr>\n",
       "      <td>6</td>\n",
       "      <td>110.421570</td>\n",
       "      <td>4290.753418</td>\n",
       "      <td>00:01</td>\n",
       "    </tr>\n",
       "    <tr>\n",
       "      <td>7</td>\n",
       "      <td>89.501289</td>\n",
       "      <td>4353.627441</td>\n",
       "      <td>00:01</td>\n",
       "    </tr>\n",
       "    <tr>\n",
       "      <td>8</td>\n",
       "      <td>73.838448</td>\n",
       "      <td>4292.385742</td>\n",
       "      <td>00:01</td>\n",
       "    </tr>\n",
       "    <tr>\n",
       "      <td>9</td>\n",
       "      <td>66.335403</td>\n",
       "      <td>4296.185059</td>\n",
       "      <td>00:01</td>\n",
       "    </tr>\n",
       "  </tbody>\n",
       "</table>"
      ],
      "text/plain": [
       "<IPython.core.display.HTML object>"
      ]
     },
     "metadata": {},
     "output_type": "display_data"
    }
   ],
   "source": [
    "learn.fit_one_cycle(10, 1e-2)"
   ]
  },
  {
   "cell_type": "code",
   "execution_count": null,
   "id": "8010f32a",
   "metadata": {},
   "outputs": [
    {
     "data": {
      "text/html": [
       "\n",
       "<style>\n",
       "    /* Turns off some styling */\n",
       "    progress {\n",
       "        /* gets rid of default border in Firefox and Opera. */\n",
       "        border: none;\n",
       "        /* Needs to be in here for Safari polyfill so background images work as expected. */\n",
       "        background-size: auto;\n",
       "    }\n",
       "    progress:not([value]), progress:not([value])::-webkit-progress-bar {\n",
       "        background: repeating-linear-gradient(45deg, #7e7e7e, #7e7e7e 10px, #5c5c5c 10px, #5c5c5c 20px);\n",
       "    }\n",
       "    .progress-bar-interrupted, .progress-bar-interrupted::-webkit-progress-bar {\n",
       "        background: #F44336;\n",
       "    }\n",
       "</style>\n"
      ],
      "text/plain": [
       "<IPython.core.display.HTML object>"
      ]
     },
     "metadata": {},
     "output_type": "display_data"
    },
    {
     "data": {
      "text/html": [],
      "text/plain": [
       "<IPython.core.display.HTML object>"
      ]
     },
     "metadata": {},
     "output_type": "display_data"
    },
    {
     "data": {
      "text/html": [
       "<table border=\"1\" class=\"dataframe\">\n",
       "  <thead>\n",
       "    <tr style=\"text-align: right;\">\n",
       "      <th></th>\n",
       "      <th>text</th>\n",
       "      <th>text_</th>\n",
       "      <th>text__</th>\n",
       "    </tr>\n",
       "  </thead>\n",
       "  <tbody>\n",
       "    <tr>\n",
       "      <th>0</th>\n",
       "      <td>xxbos one thousand one hundred twenty one</td>\n",
       "      <td>1121.0</td>\n",
       "      <td>(1217.9658203125,)</td>\n",
       "    </tr>\n",
       "    <tr>\n",
       "      <th>1</th>\n",
       "      <td>xxbos two thousand one hundred seventy five</td>\n",
       "      <td>2175.0</td>\n",
       "      <td>(2162.40576171875,)</td>\n",
       "    </tr>\n",
       "    <tr>\n",
       "      <th>2</th>\n",
       "      <td>xxbos one thousand four hundred thirty two</td>\n",
       "      <td>1432.0</td>\n",
       "      <td>(1464.802978515625,)</td>\n",
       "    </tr>\n",
       "    <tr>\n",
       "      <th>3</th>\n",
       "      <td>xxbos six thousand six hundred eighty five</td>\n",
       "      <td>6685.0</td>\n",
       "      <td>(6689.7373046875,)</td>\n",
       "    </tr>\n",
       "    <tr>\n",
       "      <th>4</th>\n",
       "      <td>xxbos four thousand six hundred thirty six</td>\n",
       "      <td>4636.0</td>\n",
       "      <td>(4642.24365234375,)</td>\n",
       "    </tr>\n",
       "    <tr>\n",
       "      <th>5</th>\n",
       "      <td>xxbos three thousand two hundred fifty five</td>\n",
       "      <td>3255.0</td>\n",
       "      <td>(3209.96875,)</td>\n",
       "    </tr>\n",
       "    <tr>\n",
       "      <th>6</th>\n",
       "      <td>xxbos five thousand six hundred eighty three</td>\n",
       "      <td>5683.0</td>\n",
       "      <td>(5737.9873046875,)</td>\n",
       "    </tr>\n",
       "    <tr>\n",
       "      <th>7</th>\n",
       "      <td>xxbos four thousand one hundred forty two</td>\n",
       "      <td>4142.0</td>\n",
       "      <td>(4257.59619140625,)</td>\n",
       "    </tr>\n",
       "    <tr>\n",
       "      <th>8</th>\n",
       "      <td>xxbos one thousand two hundred ninety nine</td>\n",
       "      <td>1299.0</td>\n",
       "      <td>(1294.419921875,)</td>\n",
       "    </tr>\n",
       "  </tbody>\n",
       "</table>"
      ],
      "text/plain": [
       "<IPython.core.display.HTML object>"
      ]
     },
     "metadata": {},
     "output_type": "display_data"
    }
   ],
   "source": [
    "learn.show_results(0)"
   ]
  },
  {
   "cell_type": "code",
   "execution_count": null,
   "id": "272e4ed9",
   "metadata": {},
   "outputs": [],
   "source": []
  },
  {
   "cell_type": "code",
   "execution_count": null,
   "id": "9f6eec46",
   "metadata": {},
   "outputs": [],
   "source": []
  },
  {
   "cell_type": "code",
   "execution_count": null,
   "id": "3b58d21a",
   "metadata": {},
   "outputs": [],
   "source": []
  }
 ],
 "metadata": {
  "kernelspec": {
   "display_name": "nl",
   "language": "python",
   "name": "nl"
  }
 },
 "nbformat": 4,
 "nbformat_minor": 5
}
